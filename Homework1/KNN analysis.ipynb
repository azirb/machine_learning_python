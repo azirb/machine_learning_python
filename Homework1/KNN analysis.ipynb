{
 "cells": [
  {
   "cell_type": "markdown",
   "id": "7f8377ae-0628-4069-9477-61ca23fb1b82",
   "metadata": {},
   "source": [
    "<h1>Импортируем необходимые библиотеки и данные</h1>"
   ]
  },
  {
   "cell_type": "code",
   "execution_count": 1,
   "id": "b4e55649-91f3-4aec-a6d8-0774486c99d1",
   "metadata": {},
   "outputs": [],
   "source": [
    "import numpy as np\n",
    "import matplotlib.pyplot as plt\n",
    "import pandas as pd\n",
    "import seaborn as sns\n",
    "from sklearn.model_selection import train_test_split\n",
    "from sklearn.neighbors import KNeighborsClassifier\n",
    "from sklearn.metrics import classification_report, confusion_matrix"
   ]
  },
  {
   "cell_type": "code",
   "execution_count": 2,
   "id": "551ffa53-0622-47eb-9a8b-e47ab2b23c59",
   "metadata": {},
   "outputs": [],
   "source": [
    "url=\"./Loan_Defaulter.csv\""
   ]
  },
  {
   "cell_type": "code",
   "execution_count": 3,
   "id": "192732dc-89fc-4165-9b24-37bad58db059",
   "metadata": {},
   "outputs": [],
   "source": [
    "data = pd.read_csv(url, skiprows=[0])"
   ]
  },
  {
   "cell_type": "code",
   "execution_count": 4,
   "id": "5f06d48e-d7a9-4167-b901-d973d484a9df",
   "metadata": {},
   "outputs": [
    {
     "data": {
      "text/plain": [
       "(30203, 25)"
      ]
     },
     "execution_count": 4,
     "metadata": {},
     "output_type": "execute_result"
    }
   ],
   "source": [
    "data.shape"
   ]
  },
  {
   "cell_type": "code",
   "execution_count": 5,
   "id": "b6581d71-2435-4d1c-9200-df47fcc74d75",
   "metadata": {},
   "outputs": [
    {
     "data": {
      "text/html": [
       "<div>\n",
       "<style scoped>\n",
       "    .dataframe tbody tr th:only-of-type {\n",
       "        vertical-align: middle;\n",
       "    }\n",
       "\n",
       "    .dataframe tbody tr th {\n",
       "        vertical-align: top;\n",
       "    }\n",
       "\n",
       "    .dataframe thead th {\n",
       "        text-align: right;\n",
       "    }\n",
       "</style>\n",
       "<table border=\"1\" class=\"dataframe\">\n",
       "  <thead>\n",
       "    <tr style=\"text-align: right;\">\n",
       "      <th></th>\n",
       "      <th>ID</th>\n",
       "      <th>LIMIT_BAL</th>\n",
       "      <th>SEX</th>\n",
       "      <th>EDUCATION</th>\n",
       "      <th>MARRIAGE</th>\n",
       "      <th>AGE</th>\n",
       "      <th>PAY_0</th>\n",
       "      <th>PAY_2</th>\n",
       "      <th>PAY_3</th>\n",
       "      <th>PAY_4</th>\n",
       "      <th>...</th>\n",
       "      <th>BILL_AMT4</th>\n",
       "      <th>BILL_AMT5</th>\n",
       "      <th>BILL_AMT6</th>\n",
       "      <th>PAY_AMT1</th>\n",
       "      <th>PAY_AMT2</th>\n",
       "      <th>PAY_AMT3</th>\n",
       "      <th>PAY_AMT4</th>\n",
       "      <th>PAY_AMT5</th>\n",
       "      <th>PAY_AMT6</th>\n",
       "      <th>default payment next month</th>\n",
       "    </tr>\n",
       "  </thead>\n",
       "  <tbody>\n",
       "    <tr>\n",
       "      <th>0</th>\n",
       "      <td>1</td>\n",
       "      <td>20000</td>\n",
       "      <td>female</td>\n",
       "      <td>university</td>\n",
       "      <td>1</td>\n",
       "      <td>24</td>\n",
       "      <td>2</td>\n",
       "      <td>2</td>\n",
       "      <td>-1</td>\n",
       "      <td>-1</td>\n",
       "      <td>...</td>\n",
       "      <td>0</td>\n",
       "      <td>0</td>\n",
       "      <td>0</td>\n",
       "      <td>0</td>\n",
       "      <td>689</td>\n",
       "      <td>0</td>\n",
       "      <td>0</td>\n",
       "      <td>0</td>\n",
       "      <td>0</td>\n",
       "      <td>default</td>\n",
       "    </tr>\n",
       "    <tr>\n",
       "      <th>1</th>\n",
       "      <td>2</td>\n",
       "      <td>120000</td>\n",
       "      <td>female</td>\n",
       "      <td>university</td>\n",
       "      <td>2</td>\n",
       "      <td>26</td>\n",
       "      <td>-1</td>\n",
       "      <td>2</td>\n",
       "      <td>0</td>\n",
       "      <td>0</td>\n",
       "      <td>...</td>\n",
       "      <td>3272</td>\n",
       "      <td>3455</td>\n",
       "      <td>3261</td>\n",
       "      <td>0</td>\n",
       "      <td>1000</td>\n",
       "      <td>1000</td>\n",
       "      <td>1000</td>\n",
       "      <td>0</td>\n",
       "      <td>2000</td>\n",
       "      <td>default</td>\n",
       "    </tr>\n",
       "    <tr>\n",
       "      <th>2</th>\n",
       "      <td>3</td>\n",
       "      <td>90000</td>\n",
       "      <td>female</td>\n",
       "      <td>university</td>\n",
       "      <td>2</td>\n",
       "      <td>34</td>\n",
       "      <td>0</td>\n",
       "      <td>0</td>\n",
       "      <td>0</td>\n",
       "      <td>0</td>\n",
       "      <td>...</td>\n",
       "      <td>14331</td>\n",
       "      <td>14948</td>\n",
       "      <td>15549</td>\n",
       "      <td>1518</td>\n",
       "      <td>1500</td>\n",
       "      <td>1000</td>\n",
       "      <td>1000</td>\n",
       "      <td>1000</td>\n",
       "      <td>5000</td>\n",
       "      <td>not default</td>\n",
       "    </tr>\n",
       "    <tr>\n",
       "      <th>3</th>\n",
       "      <td>4</td>\n",
       "      <td>50000</td>\n",
       "      <td>female</td>\n",
       "      <td>university</td>\n",
       "      <td>1</td>\n",
       "      <td>37</td>\n",
       "      <td>0</td>\n",
       "      <td>0</td>\n",
       "      <td>0</td>\n",
       "      <td>0</td>\n",
       "      <td>...</td>\n",
       "      <td>28314</td>\n",
       "      <td>28959</td>\n",
       "      <td>29547</td>\n",
       "      <td>2000</td>\n",
       "      <td>2019</td>\n",
       "      <td>1200</td>\n",
       "      <td>1100</td>\n",
       "      <td>1069</td>\n",
       "      <td>1000</td>\n",
       "      <td>not default</td>\n",
       "    </tr>\n",
       "    <tr>\n",
       "      <th>4</th>\n",
       "      <td>5</td>\n",
       "      <td>50000</td>\n",
       "      <td>male</td>\n",
       "      <td>university</td>\n",
       "      <td>1</td>\n",
       "      <td>57</td>\n",
       "      <td>-1</td>\n",
       "      <td>0</td>\n",
       "      <td>-1</td>\n",
       "      <td>0</td>\n",
       "      <td>...</td>\n",
       "      <td>20940</td>\n",
       "      <td>19146</td>\n",
       "      <td>19131</td>\n",
       "      <td>2000</td>\n",
       "      <td>36681</td>\n",
       "      <td>10000</td>\n",
       "      <td>9000</td>\n",
       "      <td>689</td>\n",
       "      <td>679</td>\n",
       "      <td>not default</td>\n",
       "    </tr>\n",
       "  </tbody>\n",
       "</table>\n",
       "<p>5 rows × 25 columns</p>\n",
       "</div>"
      ],
      "text/plain": [
       "  ID LIMIT_BAL     SEX   EDUCATION MARRIAGE AGE PAY_0 PAY_2 PAY_3 PAY_4  ...  \\\n",
       "0  1     20000  female  university        1  24     2     2    -1    -1  ...   \n",
       "1  2    120000  female  university        2  26    -1     2     0     0  ...   \n",
       "2  3     90000  female  university        2  34     0     0     0     0  ...   \n",
       "3  4     50000  female  university        1  37     0     0     0     0  ...   \n",
       "4  5     50000    male  university        1  57    -1     0    -1     0  ...   \n",
       "\n",
       "  BILL_AMT4 BILL_AMT5 BILL_AMT6 PAY_AMT1 PAY_AMT2 PAY_AMT3 PAY_AMT4 PAY_AMT5  \\\n",
       "0         0         0         0        0      689        0        0        0   \n",
       "1      3272      3455      3261        0     1000     1000     1000        0   \n",
       "2     14331     14948     15549     1518     1500     1000     1000     1000   \n",
       "3     28314     28959     29547     2000     2019     1200     1100     1069   \n",
       "4     20940     19146     19131     2000    36681    10000     9000      689   \n",
       "\n",
       "  PAY_AMT6 default payment next month  \n",
       "0        0                    default  \n",
       "1     2000                    default  \n",
       "2     5000                not default  \n",
       "3     1000                not default  \n",
       "4      679                not default  \n",
       "\n",
       "[5 rows x 25 columns]"
      ]
     },
     "execution_count": 5,
     "metadata": {},
     "output_type": "execute_result"
    }
   ],
   "source": [
    "data.head()"
   ]
  },
  {
   "cell_type": "code",
   "execution_count": 6,
   "id": "4a9af2de-2349-40bf-8ca2-d587ad0e6c75",
   "metadata": {},
   "outputs": [
    {
     "data": {
      "text/html": [
       "<div>\n",
       "<style scoped>\n",
       "    .dataframe tbody tr th:only-of-type {\n",
       "        vertical-align: middle;\n",
       "    }\n",
       "\n",
       "    .dataframe tbody tr th {\n",
       "        vertical-align: top;\n",
       "    }\n",
       "\n",
       "    .dataframe thead th {\n",
       "        text-align: right;\n",
       "    }\n",
       "</style>\n",
       "<table border=\"1\" class=\"dataframe\">\n",
       "  <thead>\n",
       "    <tr style=\"text-align: right;\">\n",
       "      <th></th>\n",
       "      <th>ID</th>\n",
       "      <th>LIMIT_BAL</th>\n",
       "      <th>SEX</th>\n",
       "      <th>EDUCATION</th>\n",
       "      <th>MARRIAGE</th>\n",
       "      <th>AGE</th>\n",
       "      <th>PAY_0</th>\n",
       "      <th>PAY_2</th>\n",
       "      <th>PAY_3</th>\n",
       "      <th>PAY_4</th>\n",
       "      <th>...</th>\n",
       "      <th>BILL_AMT4</th>\n",
       "      <th>BILL_AMT5</th>\n",
       "      <th>BILL_AMT6</th>\n",
       "      <th>PAY_AMT1</th>\n",
       "      <th>PAY_AMT2</th>\n",
       "      <th>PAY_AMT3</th>\n",
       "      <th>PAY_AMT4</th>\n",
       "      <th>PAY_AMT5</th>\n",
       "      <th>PAY_AMT6</th>\n",
       "      <th>default payment next month</th>\n",
       "    </tr>\n",
       "  </thead>\n",
       "  <tbody>\n",
       "    <tr>\n",
       "      <th>30198</th>\n",
       "      <td>29996</td>\n",
       "      <td>220000</td>\n",
       "      <td>male</td>\n",
       "      <td>high school</td>\n",
       "      <td>1</td>\n",
       "      <td>39</td>\n",
       "      <td>0</td>\n",
       "      <td>0</td>\n",
       "      <td>0</td>\n",
       "      <td>0</td>\n",
       "      <td>...</td>\n",
       "      <td>88004</td>\n",
       "      <td>31237</td>\n",
       "      <td>15980</td>\n",
       "      <td>8500</td>\n",
       "      <td>20000</td>\n",
       "      <td>5003</td>\n",
       "      <td>3047</td>\n",
       "      <td>5000</td>\n",
       "      <td>1000</td>\n",
       "      <td>not default</td>\n",
       "    </tr>\n",
       "    <tr>\n",
       "      <th>30199</th>\n",
       "      <td>29997</td>\n",
       "      <td>150000</td>\n",
       "      <td>male</td>\n",
       "      <td>high school</td>\n",
       "      <td>2</td>\n",
       "      <td>43</td>\n",
       "      <td>-1</td>\n",
       "      <td>-1</td>\n",
       "      <td>-1</td>\n",
       "      <td>-1</td>\n",
       "      <td>...</td>\n",
       "      <td>8979</td>\n",
       "      <td>5190</td>\n",
       "      <td>0</td>\n",
       "      <td>1837</td>\n",
       "      <td>3526</td>\n",
       "      <td>8998</td>\n",
       "      <td>129</td>\n",
       "      <td>0</td>\n",
       "      <td>0</td>\n",
       "      <td>not default</td>\n",
       "    </tr>\n",
       "    <tr>\n",
       "      <th>30200</th>\n",
       "      <td>29998</td>\n",
       "      <td>30000</td>\n",
       "      <td>male</td>\n",
       "      <td>university</td>\n",
       "      <td>2</td>\n",
       "      <td>37</td>\n",
       "      <td>4</td>\n",
       "      <td>3</td>\n",
       "      <td>2</td>\n",
       "      <td>-1</td>\n",
       "      <td>...</td>\n",
       "      <td>20878</td>\n",
       "      <td>20582</td>\n",
       "      <td>19357</td>\n",
       "      <td>0</td>\n",
       "      <td>0</td>\n",
       "      <td>22000</td>\n",
       "      <td>4200</td>\n",
       "      <td>2000</td>\n",
       "      <td>3100</td>\n",
       "      <td>default</td>\n",
       "    </tr>\n",
       "    <tr>\n",
       "      <th>30201</th>\n",
       "      <td>29999</td>\n",
       "      <td>80000</td>\n",
       "      <td>male</td>\n",
       "      <td>high school</td>\n",
       "      <td>1</td>\n",
       "      <td>41</td>\n",
       "      <td>1</td>\n",
       "      <td>-1</td>\n",
       "      <td>0</td>\n",
       "      <td>0</td>\n",
       "      <td>...</td>\n",
       "      <td>52774</td>\n",
       "      <td>11855</td>\n",
       "      <td>48944</td>\n",
       "      <td>85900</td>\n",
       "      <td>3409</td>\n",
       "      <td>1178</td>\n",
       "      <td>1926</td>\n",
       "      <td>52964</td>\n",
       "      <td>1804</td>\n",
       "      <td>default</td>\n",
       "    </tr>\n",
       "    <tr>\n",
       "      <th>30202</th>\n",
       "      <td>30000</td>\n",
       "      <td>50000</td>\n",
       "      <td>male</td>\n",
       "      <td>university</td>\n",
       "      <td>1</td>\n",
       "      <td>46</td>\n",
       "      <td>0</td>\n",
       "      <td>0</td>\n",
       "      <td>0</td>\n",
       "      <td>0</td>\n",
       "      <td>...</td>\n",
       "      <td>36535</td>\n",
       "      <td>32428</td>\n",
       "      <td>15313</td>\n",
       "      <td>2078</td>\n",
       "      <td>1800</td>\n",
       "      <td>1430</td>\n",
       "      <td>1000</td>\n",
       "      <td>1000</td>\n",
       "      <td>1000</td>\n",
       "      <td>default</td>\n",
       "    </tr>\n",
       "  </tbody>\n",
       "</table>\n",
       "<p>5 rows × 25 columns</p>\n",
       "</div>"
      ],
      "text/plain": [
       "          ID LIMIT_BAL   SEX    EDUCATION MARRIAGE AGE PAY_0 PAY_2 PAY_3  \\\n",
       "30198  29996    220000  male  high school        1  39     0     0     0   \n",
       "30199  29997    150000  male  high school        2  43    -1    -1    -1   \n",
       "30200  29998     30000  male   university        2  37     4     3     2   \n",
       "30201  29999     80000  male  high school        1  41     1    -1     0   \n",
       "30202  30000     50000  male   university        1  46     0     0     0   \n",
       "\n",
       "      PAY_4  ... BILL_AMT4 BILL_AMT5 BILL_AMT6 PAY_AMT1 PAY_AMT2 PAY_AMT3  \\\n",
       "30198     0  ...     88004     31237     15980     8500    20000     5003   \n",
       "30199    -1  ...      8979      5190         0     1837     3526     8998   \n",
       "30200    -1  ...     20878     20582     19357        0        0    22000   \n",
       "30201     0  ...     52774     11855     48944    85900     3409     1178   \n",
       "30202     0  ...     36535     32428     15313     2078     1800     1430   \n",
       "\n",
       "      PAY_AMT4 PAY_AMT5 PAY_AMT6 default payment next month  \n",
       "30198     3047     5000     1000                not default  \n",
       "30199      129        0        0                not default  \n",
       "30200     4200     2000     3100                    default  \n",
       "30201     1926    52964     1804                    default  \n",
       "30202     1000     1000     1000                    default  \n",
       "\n",
       "[5 rows x 25 columns]"
      ]
     },
     "execution_count": 6,
     "metadata": {},
     "output_type": "execute_result"
    }
   ],
   "source": [
    "data.tail()"
   ]
  },
  {
   "cell_type": "code",
   "execution_count": 7,
   "id": "4e0918a2-3299-4a2c-a85e-626135ef5ca6",
   "metadata": {},
   "outputs": [
    {
     "data": {
      "text/plain": [
       "Index(['ID', 'LIMIT_BAL', 'SEX', 'EDUCATION', 'MARRIAGE', 'AGE', 'PAY_0',\n",
       "       'PAY_2', 'PAY_3', 'PAY_4', 'PAY_5', 'PAY_6', 'BILL_AMT1', 'BILL_AMT2',\n",
       "       'BILL_AMT3', 'BILL_AMT4', 'BILL_AMT5', 'BILL_AMT6', 'PAY_AMT1',\n",
       "       'PAY_AMT2', 'PAY_AMT3', 'PAY_AMT4', 'PAY_AMT5', 'PAY_AMT6',\n",
       "       'default payment next month'],\n",
       "      dtype='object')"
      ]
     },
     "execution_count": 7,
     "metadata": {},
     "output_type": "execute_result"
    }
   ],
   "source": [
    "data.columns"
   ]
  },
  {
   "cell_type": "markdown",
   "id": "956ff1ea-6ef8-490c-a6c2-5c1acd9253fb",
   "metadata": {},
   "source": [
    "<h1>Задаем категориальные признаки</h1>"
   ]
  },
  {
   "cell_type": "code",
   "execution_count": 8,
   "id": "65ccf128-8397-4caa-9594-f46c7df7b1b5",
   "metadata": {},
   "outputs": [],
   "source": [
    "data['EDUCATION'] = data['EDUCATION'].astype('category')\n",
    "data['SEX'] = data['SEX'].astype('category')\n",
    "data['default payment next month'] = data['default payment next month'].astype('category')"
   ]
  },
  {
   "cell_type": "markdown",
   "id": "8ffa702e-0fb7-4738-aec1-27a5332dee44",
   "metadata": {},
   "source": [
    "<h2>Проверяем выбросы и непонятные значения</h2>"
   ]
  },
  {
   "cell_type": "code",
   "execution_count": 9,
   "id": "3de48f47-7521-42a4-977f-f94154fc183b",
   "metadata": {},
   "outputs": [
    {
     "data": {
      "image/png": "[encoded data removed]",
      "text/plain": [
       "<Figure size 432x288 with 1 Axes>"
      ]
     },
     "metadata": {
      "needs_background": "light"
     },
     "output_type": "display_data"
    }
   ],
   "source": [
    "plt.scatter(x=data['SEX'], y=data['default payment next month'])\n",
    "pass"
   ]
  },
  {
   "cell_type": "markdown",
   "id": "b2dbc2b4-fd19-483a-bef9-a240ffa4b3ca",
   "metadata": {},
   "source": [
    "<h1>Дропаем лишние столбики и  заного строим диалграмму для нахождения выброса</h1>"
   ]
  },
  {
   "cell_type": "code",
   "execution_count": 10,
   "id": "70bbb15e-9cdf-4f3d-8e1b-baf3f3b2ed25",
   "metadata": {},
   "outputs": [],
   "source": [
    "dropRows = data[\n",
    "    ((data['SEX'] == 'X2') | (data['SEX'] == 'SEX') | (data['default payment next month'] == 'Y') | (data['default payment next month'] == 'default payment next month'))\n",
    "].index\n",
    "filteredData = data.drop(dropRows)"
   ]
  },
  {
   "cell_type": "code",
   "execution_count": 11,
   "id": "e081df28-9527-4a18-9b43-ffbfe8bce720",
   "metadata": {},
   "outputs": [
    {
     "data": {
      "image/png": "[encoded data removed]",
      "text/plain": [
       "<Figure size 432x288 with 1 Axes>"
      ]
     },
     "metadata": {
      "needs_background": "light"
     },
     "output_type": "display_data"
    }
   ],
   "source": [
    "plt.scatter(x=filteredData['SEX'], y=filteredData['default payment next month'])\n",
    "pass"
   ]
  },
  {
   "cell_type": "markdown",
   "id": "a3c64d11-50dc-4555-b9b2-45f0a01700e7",
   "metadata": {},
   "source": [
    "<h2>Теперь у нас более равномерное распределение значений и нету выбросов которые нам не особо интересны</h2>\n",
    "<h4> Теперь рассмотрим категориальные признаки </h4>"
   ]
  },
  {
   "cell_type": "code",
   "execution_count": 12,
   "id": "bf7dcc44-94f6-40de-bc99-d07f9d978be3",
   "metadata": {},
   "outputs": [
    {
     "data": {
      "text/html": [
       "<div>\n",
       "<style scoped>\n",
       "    .dataframe tbody tr th:only-of-type {\n",
       "        vertical-align: middle;\n",
       "    }\n",
       "\n",
       "    .dataframe tbody tr th {\n",
       "        vertical-align: top;\n",
       "    }\n",
       "\n",
       "    .dataframe thead th {\n",
       "        text-align: right;\n",
       "    }\n",
       "</style>\n",
       "<table border=\"1\" class=\"dataframe\">\n",
       "  <thead>\n",
       "    <tr style=\"text-align: right;\">\n",
       "      <th></th>\n",
       "      <th>SEX</th>\n",
       "      <th>EDUCATION</th>\n",
       "      <th>default payment next month</th>\n",
       "    </tr>\n",
       "  </thead>\n",
       "  <tbody>\n",
       "    <tr>\n",
       "      <th>count</th>\n",
       "      <td>30201</td>\n",
       "      <td>30201</td>\n",
       "      <td>30201</td>\n",
       "    </tr>\n",
       "    <tr>\n",
       "      <th>unique</th>\n",
       "      <td>2</td>\n",
       "      <td>4</td>\n",
       "      <td>2</td>\n",
       "    </tr>\n",
       "    <tr>\n",
       "      <th>top</th>\n",
       "      <td>female</td>\n",
       "      <td>university</td>\n",
       "      <td>not default</td>\n",
       "    </tr>\n",
       "    <tr>\n",
       "      <th>freq</th>\n",
       "      <td>18217</td>\n",
       "      <td>14107</td>\n",
       "      <td>23519</td>\n",
       "    </tr>\n",
       "  </tbody>\n",
       "</table>\n",
       "</div>"
      ],
      "text/plain": [
       "           SEX   EDUCATION default payment next month\n",
       "count    30201       30201                      30201\n",
       "unique       2           4                          2\n",
       "top     female  university                not default\n",
       "freq     18217       14107                      23519"
      ]
     },
     "execution_count": 12,
     "metadata": {},
     "output_type": "execute_result"
    }
   ],
   "source": [
    "filteredData.describe(include=['category'])"
   ]
  },
  {
   "cell_type": "code",
   "execution_count": 13,
   "id": "b5815ecd-f0f0-4457-b814-831f45459428",
   "metadata": {},
   "outputs": [
    {
     "data": {
      "text/plain": [
       "female    18217\n",
       "male      11984\n",
       "SEX           0\n",
       "X2            0\n",
       "Name: SEX, dtype: int64"
      ]
     },
     "execution_count": 13,
     "metadata": {},
     "output_type": "execute_result"
    }
   ],
   "source": [
    "filteredData['SEX'].value_counts()"
   ]
  },
  {
   "cell_type": "code",
   "execution_count": 14,
   "id": "35ade553-f6b0-48fb-93e0-6444c57e96a1",
   "metadata": {},
   "outputs": [
    {
     "data": {
      "text/plain": [
       "university         14107\n",
       "graduate school    10672\n",
       "high school         4952\n",
       "other                470\n",
       "EDUCATION              0\n",
       "X3                     0\n",
       "Name: EDUCATION, dtype: int64"
      ]
     },
     "execution_count": 14,
     "metadata": {},
     "output_type": "execute_result"
    }
   ],
   "source": [
    "filteredData['EDUCATION'].value_counts()"
   ]
  },
  {
   "cell_type": "code",
   "execution_count": 15,
   "id": "1c1ddc60-6946-4b34-9036-ae818667ad2d",
   "metadata": {},
   "outputs": [
    {
     "data": {
      "image/png": "[encoded data removed]",
      "text/plain": [
       "<Figure size 432x288 with 1 Axes>"
      ]
     },
     "metadata": {
      "needs_background": "light"
     },
     "output_type": "display_data"
    }
   ],
   "source": [
    "sns.countplot(x='EDUCATION',data=filteredData)\n",
    "pass"
   ]
  },
  {
   "cell_type": "code",
   "execution_count": 16,
   "id": "c2db8160-cb99-4f49-b543-931a7422425b",
   "metadata": {},
   "outputs": [
    {
     "data": {
      "image/png": "[encoded data removed]",
      "text/plain": [
       "<Figure size 432x288 with 1 Axes>"
      ]
     },
     "metadata": {
      "needs_background": "light"
     },
     "output_type": "display_data"
    }
   ],
   "source": [
    "sns.countplot(x='SEX',data=filteredData)\n",
    "pass"
   ]
  },
  {
   "cell_type": "code",
   "execution_count": 17,
   "id": "ba51bfcc-4d95-4767-bc26-a1bcc3fe02ea",
   "metadata": {},
   "outputs": [
    {
     "data": {
      "image/png": "[encoded data removed]",
      "text/plain": [
       "<Figure size 432x288 with 1 Axes>"
      ]
     },
     "metadata": {
      "needs_background": "light"
     },
     "output_type": "display_data"
    }
   ],
   "source": [
    "sns.countplot(x='EDUCATION',data=filteredData, order=filteredData['EDUCATION'].value_counts().index)\n",
    "pass"
   ]
  },
  {
   "cell_type": "code",
   "execution_count": 18,
   "id": "0cf86042-de65-433d-9c0a-00cd1b1d39e5",
   "metadata": {},
   "outputs": [
    {
     "name": "stdout",
     "output_type": "stream",
     "text": [
      "<class 'pandas.core.frame.DataFrame'>\n",
      "Int64Index: 30201 entries, 0 to 30202\n",
      "Data columns (total 25 columns):\n",
      " #   Column                      Non-Null Count  Dtype   \n",
      "---  ------                      --------------  -----   \n",
      " 0   ID                          30201 non-null  int64   \n",
      " 1   LIMIT_BAL                   30201 non-null  int64   \n",
      " 2   SEX                         30201 non-null  category\n",
      " 3   EDUCATION                   30201 non-null  category\n",
      " 4   MARRIAGE                    30201 non-null  int64   \n",
      " 5   AGE                         30201 non-null  int64   \n",
      " 6   PAY_0                       30201 non-null  int64   \n",
      " 7   PAY_2                       30201 non-null  int64   \n",
      " 8   PAY_3                       30201 non-null  int64   \n",
      " 9   PAY_4                       30201 non-null  int64   \n",
      " 10  PAY_5                       30201 non-null  int64   \n",
      " 11  PAY_6                       30201 non-null  int64   \n",
      " 12  BILL_AMT1                   30201 non-null  int64   \n",
      " 13  BILL_AMT2                   30201 non-null  int64   \n",
      " 14  BILL_AMT3                   30201 non-null  int64   \n",
      " 15  BILL_AMT4                   30201 non-null  int64   \n",
      " 16  BILL_AMT5                   30201 non-null  int64   \n",
      " 17  BILL_AMT6                   30201 non-null  int64   \n",
      " 18  PAY_AMT1                    30201 non-null  int64   \n",
      " 19  PAY_AMT2                    30201 non-null  int64   \n",
      " 20  PAY_AMT3                    30201 non-null  int64   \n",
      " 21  PAY_AMT4                    30201 non-null  int64   \n",
      " 22  PAY_AMT5                    30201 non-null  int64   \n",
      " 23  PAY_AMT6                    30201 non-null  int64   \n",
      " 24  default payment next month  30201 non-null  category\n",
      "dtypes: category(3), int64(22)\n",
      "memory usage: 6.4 MB\n"
     ]
    }
   ],
   "source": [
    "for i in filteredData.columns:\n",
    "    if filteredData[i].dtype == 'object':\n",
    "        filteredData[i] = filteredData[i].astype('int64')\n",
    "\n",
    "filteredData.info()"
   ]
  },
  {
   "cell_type": "markdown",
   "id": "1429b012-54d3-454e-b669-6118cf679eeb",
   "metadata": {},
   "source": [
    "<h1>Вычисляем матрицу кореалиации</h1>\n"
   ]
  },
  {
   "cell_type": "code",
   "execution_count": 19,
   "id": "c7f9f43e-ce65-48fd-9bea-97121574a218",
   "metadata": {},
   "outputs": [
    {
     "data": {
      "text/html": [
       "<div>\n",
       "<style scoped>\n",
       "    .dataframe tbody tr th:only-of-type {\n",
       "        vertical-align: middle;\n",
       "    }\n",
       "\n",
       "    .dataframe tbody tr th {\n",
       "        vertical-align: top;\n",
       "    }\n",
       "\n",
       "    .dataframe thead th {\n",
       "        text-align: right;\n",
       "    }\n",
       "</style>\n",
       "<table border=\"1\" class=\"dataframe\">\n",
       "  <thead>\n",
       "    <tr style=\"text-align: right;\">\n",
       "      <th></th>\n",
       "      <th>ID</th>\n",
       "      <th>LIMIT_BAL</th>\n",
       "      <th>MARRIAGE</th>\n",
       "      <th>AGE</th>\n",
       "      <th>PAY_0</th>\n",
       "      <th>PAY_2</th>\n",
       "      <th>PAY_3</th>\n",
       "      <th>PAY_4</th>\n",
       "      <th>PAY_5</th>\n",
       "      <th>PAY_6</th>\n",
       "      <th>...</th>\n",
       "      <th>BILL_AMT3</th>\n",
       "      <th>BILL_AMT4</th>\n",
       "      <th>BILL_AMT5</th>\n",
       "      <th>BILL_AMT6</th>\n",
       "      <th>PAY_AMT1</th>\n",
       "      <th>PAY_AMT2</th>\n",
       "      <th>PAY_AMT3</th>\n",
       "      <th>PAY_AMT4</th>\n",
       "      <th>PAY_AMT5</th>\n",
       "      <th>PAY_AMT6</th>\n",
       "    </tr>\n",
       "  </thead>\n",
       "  <tbody>\n",
       "    <tr>\n",
       "      <th>ID</th>\n",
       "      <td>1.000000</td>\n",
       "      <td>0.025781</td>\n",
       "      <td>-0.030762</td>\n",
       "      <td>0.019679</td>\n",
       "      <td>-0.030847</td>\n",
       "      <td>-0.010728</td>\n",
       "      <td>-0.018823</td>\n",
       "      <td>-0.002375</td>\n",
       "      <td>-0.022670</td>\n",
       "      <td>-0.020165</td>\n",
       "      <td>...</td>\n",
       "      <td>0.024698</td>\n",
       "      <td>0.040046</td>\n",
       "      <td>0.016836</td>\n",
       "      <td>0.017024</td>\n",
       "      <td>0.010087</td>\n",
       "      <td>0.009335</td>\n",
       "      <td>0.038683</td>\n",
       "      <td>0.006852</td>\n",
       "      <td>0.000542</td>\n",
       "      <td>0.003685</td>\n",
       "    </tr>\n",
       "    <tr>\n",
       "      <th>LIMIT_BAL</th>\n",
       "      <td>0.025781</td>\n",
       "      <td>1.000000</td>\n",
       "      <td>-0.109024</td>\n",
       "      <td>0.146340</td>\n",
       "      <td>-0.271197</td>\n",
       "      <td>-0.296601</td>\n",
       "      <td>-0.285772</td>\n",
       "      <td>-0.267111</td>\n",
       "      <td>-0.249155</td>\n",
       "      <td>-0.235144</td>\n",
       "      <td>...</td>\n",
       "      <td>0.283612</td>\n",
       "      <td>0.294272</td>\n",
       "      <td>0.296017</td>\n",
       "      <td>0.290658</td>\n",
       "      <td>0.195705</td>\n",
       "      <td>0.178651</td>\n",
       "      <td>0.210122</td>\n",
       "      <td>0.203782</td>\n",
       "      <td>0.216735</td>\n",
       "      <td>0.219727</td>\n",
       "    </tr>\n",
       "    <tr>\n",
       "      <th>MARRIAGE</th>\n",
       "      <td>-0.030762</td>\n",
       "      <td>-0.109024</td>\n",
       "      <td>1.000000</td>\n",
       "      <td>-0.414769</td>\n",
       "      <td>0.020399</td>\n",
       "      <td>0.024421</td>\n",
       "      <td>0.032552</td>\n",
       "      <td>0.033364</td>\n",
       "      <td>0.035837</td>\n",
       "      <td>0.034540</td>\n",
       "      <td>...</td>\n",
       "      <td>-0.025951</td>\n",
       "      <td>-0.023924</td>\n",
       "      <td>-0.026313</td>\n",
       "      <td>-0.022284</td>\n",
       "      <td>-0.006241</td>\n",
       "      <td>-0.008453</td>\n",
       "      <td>-0.003520</td>\n",
       "      <td>-0.012547</td>\n",
       "      <td>-0.001526</td>\n",
       "      <td>-0.007224</td>\n",
       "    </tr>\n",
       "    <tr>\n",
       "      <th>AGE</th>\n",
       "      <td>0.019679</td>\n",
       "      <td>0.146340</td>\n",
       "      <td>-0.414769</td>\n",
       "      <td>1.000000</td>\n",
       "      <td>-0.039523</td>\n",
       "      <td>-0.050396</td>\n",
       "      <td>-0.053452</td>\n",
       "      <td>-0.049858</td>\n",
       "      <td>-0.053864</td>\n",
       "      <td>-0.048828</td>\n",
       "      <td>...</td>\n",
       "      <td>0.054607</td>\n",
       "      <td>0.051887</td>\n",
       "      <td>0.050184</td>\n",
       "      <td>0.048665</td>\n",
       "      <td>0.026285</td>\n",
       "      <td>0.022458</td>\n",
       "      <td>0.029600</td>\n",
       "      <td>0.021829</td>\n",
       "      <td>0.023410</td>\n",
       "      <td>0.020027</td>\n",
       "    </tr>\n",
       "    <tr>\n",
       "      <th>PAY_0</th>\n",
       "      <td>-0.030847</td>\n",
       "      <td>-0.271197</td>\n",
       "      <td>0.020399</td>\n",
       "      <td>-0.039523</td>\n",
       "      <td>1.000000</td>\n",
       "      <td>0.671046</td>\n",
       "      <td>0.573129</td>\n",
       "      <td>0.538270</td>\n",
       "      <td>0.508541</td>\n",
       "      <td>0.473786</td>\n",
       "      <td>...</td>\n",
       "      <td>0.179449</td>\n",
       "      <td>0.178715</td>\n",
       "      <td>0.180322</td>\n",
       "      <td>0.176729</td>\n",
       "      <td>-0.079303</td>\n",
       "      <td>-0.070163</td>\n",
       "      <td>-0.070217</td>\n",
       "      <td>-0.064074</td>\n",
       "      <td>-0.058036</td>\n",
       "      <td>-0.058918</td>\n",
       "    </tr>\n",
       "    <tr>\n",
       "      <th>PAY_2</th>\n",
       "      <td>-0.010728</td>\n",
       "      <td>-0.296601</td>\n",
       "      <td>0.024421</td>\n",
       "      <td>-0.050396</td>\n",
       "      <td>0.671046</td>\n",
       "      <td>1.000000</td>\n",
       "      <td>0.766644</td>\n",
       "      <td>0.662888</td>\n",
       "      <td>0.623214</td>\n",
       "      <td>0.576278</td>\n",
       "      <td>...</td>\n",
       "      <td>0.224119</td>\n",
       "      <td>0.222038</td>\n",
       "      <td>0.221308</td>\n",
       "      <td>0.219393</td>\n",
       "      <td>-0.080536</td>\n",
       "      <td>-0.058890</td>\n",
       "      <td>-0.055445</td>\n",
       "      <td>-0.046709</td>\n",
       "      <td>-0.036810</td>\n",
       "      <td>-0.036442</td>\n",
       "    </tr>\n",
       "    <tr>\n",
       "      <th>PAY_3</th>\n",
       "      <td>-0.018823</td>\n",
       "      <td>-0.285772</td>\n",
       "      <td>0.032552</td>\n",
       "      <td>-0.053452</td>\n",
       "      <td>0.573129</td>\n",
       "      <td>0.766644</td>\n",
       "      <td>1.000000</td>\n",
       "      <td>0.777506</td>\n",
       "      <td>0.686727</td>\n",
       "      <td>0.632586</td>\n",
       "      <td>...</td>\n",
       "      <td>0.227510</td>\n",
       "      <td>0.226995</td>\n",
       "      <td>0.225099</td>\n",
       "      <td>0.222317</td>\n",
       "      <td>0.001482</td>\n",
       "      <td>-0.066759</td>\n",
       "      <td>-0.053015</td>\n",
       "      <td>-0.045961</td>\n",
       "      <td>-0.035563</td>\n",
       "      <td>-0.035611</td>\n",
       "    </tr>\n",
       "    <tr>\n",
       "      <th>PAY_4</th>\n",
       "      <td>-0.002375</td>\n",
       "      <td>-0.267111</td>\n",
       "      <td>0.033364</td>\n",
       "      <td>-0.049858</td>\n",
       "      <td>0.538270</td>\n",
       "      <td>0.662888</td>\n",
       "      <td>0.777506</td>\n",
       "      <td>1.000000</td>\n",
       "      <td>0.820014</td>\n",
       "      <td>0.716631</td>\n",
       "      <td>...</td>\n",
       "      <td>0.245418</td>\n",
       "      <td>0.246138</td>\n",
       "      <td>0.243434</td>\n",
       "      <td>0.239677</td>\n",
       "      <td>-0.009369</td>\n",
       "      <td>-0.001747</td>\n",
       "      <td>-0.069082</td>\n",
       "      <td>-0.043298</td>\n",
       "      <td>-0.033783</td>\n",
       "      <td>-0.026512</td>\n",
       "    </tr>\n",
       "    <tr>\n",
       "      <th>PAY_5</th>\n",
       "      <td>-0.022670</td>\n",
       "      <td>-0.249155</td>\n",
       "      <td>0.035837</td>\n",
       "      <td>-0.053864</td>\n",
       "      <td>0.508541</td>\n",
       "      <td>0.623214</td>\n",
       "      <td>0.686727</td>\n",
       "      <td>0.820014</td>\n",
       "      <td>1.000000</td>\n",
       "      <td>0.816584</td>\n",
       "      <td>...</td>\n",
       "      <td>0.243696</td>\n",
       "      <td>0.271735</td>\n",
       "      <td>0.269986</td>\n",
       "      <td>0.262709</td>\n",
       "      <td>-0.006147</td>\n",
       "      <td>-0.003124</td>\n",
       "      <td>0.008976</td>\n",
       "      <td>-0.058010</td>\n",
       "      <td>-0.033543</td>\n",
       "      <td>-0.023010</td>\n",
       "    </tr>\n",
       "    <tr>\n",
       "      <th>PAY_6</th>\n",
       "      <td>-0.020165</td>\n",
       "      <td>-0.235144</td>\n",
       "      <td>0.034540</td>\n",
       "      <td>-0.048828</td>\n",
       "      <td>0.473786</td>\n",
       "      <td>0.576278</td>\n",
       "      <td>0.632586</td>\n",
       "      <td>0.716631</td>\n",
       "      <td>0.816584</td>\n",
       "      <td>1.000000</td>\n",
       "      <td>...</td>\n",
       "      <td>0.241429</td>\n",
       "      <td>0.266044</td>\n",
       "      <td>0.290743</td>\n",
       "      <td>0.285018</td>\n",
       "      <td>-0.001582</td>\n",
       "      <td>-0.005164</td>\n",
       "      <td>0.005765</td>\n",
       "      <td>0.018856</td>\n",
       "      <td>-0.046566</td>\n",
       "      <td>-0.025322</td>\n",
       "    </tr>\n",
       "    <tr>\n",
       "      <th>BILL_AMT1</th>\n",
       "      <td>0.019936</td>\n",
       "      <td>0.285503</td>\n",
       "      <td>-0.024432</td>\n",
       "      <td>0.057050</td>\n",
       "      <td>0.186715</td>\n",
       "      <td>0.234934</td>\n",
       "      <td>0.208584</td>\n",
       "      <td>0.203300</td>\n",
       "      <td>0.207097</td>\n",
       "      <td>0.207716</td>\n",
       "      <td>...</td>\n",
       "      <td>0.892748</td>\n",
       "      <td>0.860048</td>\n",
       "      <td>0.830086</td>\n",
       "      <td>0.803445</td>\n",
       "      <td>0.140893</td>\n",
       "      <td>0.099944</td>\n",
       "      <td>0.158135</td>\n",
       "      <td>0.158647</td>\n",
       "      <td>0.168106</td>\n",
       "      <td>0.179540</td>\n",
       "    </tr>\n",
       "    <tr>\n",
       "      <th>BILL_AMT2</th>\n",
       "      <td>0.018272</td>\n",
       "      <td>0.278609</td>\n",
       "      <td>-0.022637</td>\n",
       "      <td>0.055121</td>\n",
       "      <td>0.189498</td>\n",
       "      <td>0.235260</td>\n",
       "      <td>0.237287</td>\n",
       "      <td>0.226164</td>\n",
       "      <td>0.227203</td>\n",
       "      <td>0.227141</td>\n",
       "      <td>...</td>\n",
       "      <td>0.928635</td>\n",
       "      <td>0.892197</td>\n",
       "      <td>0.860011</td>\n",
       "      <td>0.832315</td>\n",
       "      <td>0.280692</td>\n",
       "      <td>0.101486</td>\n",
       "      <td>0.152150</td>\n",
       "      <td>0.147903</td>\n",
       "      <td>0.159251</td>\n",
       "      <td>0.174527</td>\n",
       "    </tr>\n",
       "    <tr>\n",
       "      <th>BILL_AMT3</th>\n",
       "      <td>0.024698</td>\n",
       "      <td>0.283612</td>\n",
       "      <td>-0.025951</td>\n",
       "      <td>0.054607</td>\n",
       "      <td>0.179449</td>\n",
       "      <td>0.224119</td>\n",
       "      <td>0.227510</td>\n",
       "      <td>0.245418</td>\n",
       "      <td>0.243696</td>\n",
       "      <td>0.241429</td>\n",
       "      <td>...</td>\n",
       "      <td>1.000000</td>\n",
       "      <td>0.923533</td>\n",
       "      <td>0.884207</td>\n",
       "      <td>0.854009</td>\n",
       "      <td>0.244638</td>\n",
       "      <td>0.316918</td>\n",
       "      <td>0.130812</td>\n",
       "      <td>0.143825</td>\n",
       "      <td>0.180048</td>\n",
       "      <td>0.182455</td>\n",
       "    </tr>\n",
       "    <tr>\n",
       "      <th>BILL_AMT4</th>\n",
       "      <td>0.040046</td>\n",
       "      <td>0.294272</td>\n",
       "      <td>-0.023924</td>\n",
       "      <td>0.051887</td>\n",
       "      <td>0.178715</td>\n",
       "      <td>0.222038</td>\n",
       "      <td>0.226995</td>\n",
       "      <td>0.246138</td>\n",
       "      <td>0.271735</td>\n",
       "      <td>0.266044</td>\n",
       "      <td>...</td>\n",
       "      <td>0.923533</td>\n",
       "      <td>1.000000</td>\n",
       "      <td>0.939711</td>\n",
       "      <td>0.900876</td>\n",
       "      <td>0.233380</td>\n",
       "      <td>0.207723</td>\n",
       "      <td>0.299919</td>\n",
       "      <td>0.133110</td>\n",
       "      <td>0.160797</td>\n",
       "      <td>0.177437</td>\n",
       "    </tr>\n",
       "    <tr>\n",
       "      <th>BILL_AMT5</th>\n",
       "      <td>0.016836</td>\n",
       "      <td>0.296017</td>\n",
       "      <td>-0.026313</td>\n",
       "      <td>0.050184</td>\n",
       "      <td>0.180322</td>\n",
       "      <td>0.221308</td>\n",
       "      <td>0.225099</td>\n",
       "      <td>0.243434</td>\n",
       "      <td>0.269986</td>\n",
       "      <td>0.290743</td>\n",
       "      <td>...</td>\n",
       "      <td>0.884207</td>\n",
       "      <td>0.939711</td>\n",
       "      <td>1.000000</td>\n",
       "      <td>0.946192</td>\n",
       "      <td>0.217514</td>\n",
       "      <td>0.181773</td>\n",
       "      <td>0.252306</td>\n",
       "      <td>0.293473</td>\n",
       "      <td>0.141162</td>\n",
       "      <td>0.164245</td>\n",
       "    </tr>\n",
       "    <tr>\n",
       "      <th>BILL_AMT6</th>\n",
       "      <td>0.017024</td>\n",
       "      <td>0.290658</td>\n",
       "      <td>-0.022284</td>\n",
       "      <td>0.048665</td>\n",
       "      <td>0.176729</td>\n",
       "      <td>0.219393</td>\n",
       "      <td>0.222317</td>\n",
       "      <td>0.239677</td>\n",
       "      <td>0.262709</td>\n",
       "      <td>0.285018</td>\n",
       "      <td>...</td>\n",
       "      <td>0.854009</td>\n",
       "      <td>0.900876</td>\n",
       "      <td>0.946192</td>\n",
       "      <td>1.000000</td>\n",
       "      <td>0.200491</td>\n",
       "      <td>0.173195</td>\n",
       "      <td>0.234556</td>\n",
       "      <td>0.249783</td>\n",
       "      <td>0.307662</td>\n",
       "      <td>0.115888</td>\n",
       "    </tr>\n",
       "    <tr>\n",
       "      <th>PAY_AMT1</th>\n",
       "      <td>0.010087</td>\n",
       "      <td>0.195705</td>\n",
       "      <td>-0.006241</td>\n",
       "      <td>0.026285</td>\n",
       "      <td>-0.079303</td>\n",
       "      <td>-0.080536</td>\n",
       "      <td>0.001482</td>\n",
       "      <td>-0.009369</td>\n",
       "      <td>-0.006147</td>\n",
       "      <td>-0.001582</td>\n",
       "      <td>...</td>\n",
       "      <td>0.244638</td>\n",
       "      <td>0.233380</td>\n",
       "      <td>0.217514</td>\n",
       "      <td>0.200491</td>\n",
       "      <td>1.000000</td>\n",
       "      <td>0.285693</td>\n",
       "      <td>0.252589</td>\n",
       "      <td>0.199013</td>\n",
       "      <td>0.148701</td>\n",
       "      <td>0.186060</td>\n",
       "    </tr>\n",
       "    <tr>\n",
       "      <th>PAY_AMT2</th>\n",
       "      <td>0.009335</td>\n",
       "      <td>0.178651</td>\n",
       "      <td>-0.008453</td>\n",
       "      <td>0.022458</td>\n",
       "      <td>-0.070163</td>\n",
       "      <td>-0.058890</td>\n",
       "      <td>-0.066759</td>\n",
       "      <td>-0.001747</td>\n",
       "      <td>-0.003124</td>\n",
       "      <td>-0.005164</td>\n",
       "      <td>...</td>\n",
       "      <td>0.316918</td>\n",
       "      <td>0.207723</td>\n",
       "      <td>0.181773</td>\n",
       "      <td>0.173195</td>\n",
       "      <td>0.285693</td>\n",
       "      <td>1.000000</td>\n",
       "      <td>0.244532</td>\n",
       "      <td>0.179591</td>\n",
       "      <td>0.180481</td>\n",
       "      <td>0.157741</td>\n",
       "    </tr>\n",
       "    <tr>\n",
       "      <th>PAY_AMT3</th>\n",
       "      <td>0.038683</td>\n",
       "      <td>0.210122</td>\n",
       "      <td>-0.003520</td>\n",
       "      <td>0.029600</td>\n",
       "      <td>-0.070217</td>\n",
       "      <td>-0.055445</td>\n",
       "      <td>-0.053015</td>\n",
       "      <td>-0.069082</td>\n",
       "      <td>0.008976</td>\n",
       "      <td>0.005765</td>\n",
       "      <td>...</td>\n",
       "      <td>0.130812</td>\n",
       "      <td>0.299919</td>\n",
       "      <td>0.252306</td>\n",
       "      <td>0.234556</td>\n",
       "      <td>0.252589</td>\n",
       "      <td>0.244532</td>\n",
       "      <td>1.000000</td>\n",
       "      <td>0.215320</td>\n",
       "      <td>0.162485</td>\n",
       "      <td>0.163200</td>\n",
       "    </tr>\n",
       "    <tr>\n",
       "      <th>PAY_AMT4</th>\n",
       "      <td>0.006852</td>\n",
       "      <td>0.203782</td>\n",
       "      <td>-0.012547</td>\n",
       "      <td>0.021829</td>\n",
       "      <td>-0.064074</td>\n",
       "      <td>-0.046709</td>\n",
       "      <td>-0.045961</td>\n",
       "      <td>-0.043298</td>\n",
       "      <td>-0.058010</td>\n",
       "      <td>0.018856</td>\n",
       "      <td>...</td>\n",
       "      <td>0.143825</td>\n",
       "      <td>0.133110</td>\n",
       "      <td>0.293473</td>\n",
       "      <td>0.249783</td>\n",
       "      <td>0.199013</td>\n",
       "      <td>0.179591</td>\n",
       "      <td>0.215320</td>\n",
       "      <td>1.000000</td>\n",
       "      <td>0.151825</td>\n",
       "      <td>0.157613</td>\n",
       "    </tr>\n",
       "    <tr>\n",
       "      <th>PAY_AMT5</th>\n",
       "      <td>0.000542</td>\n",
       "      <td>0.216735</td>\n",
       "      <td>-0.001526</td>\n",
       "      <td>0.023410</td>\n",
       "      <td>-0.058036</td>\n",
       "      <td>-0.036810</td>\n",
       "      <td>-0.035563</td>\n",
       "      <td>-0.033783</td>\n",
       "      <td>-0.033543</td>\n",
       "      <td>-0.046566</td>\n",
       "      <td>...</td>\n",
       "      <td>0.180048</td>\n",
       "      <td>0.160797</td>\n",
       "      <td>0.141162</td>\n",
       "      <td>0.307662</td>\n",
       "      <td>0.148701</td>\n",
       "      <td>0.180481</td>\n",
       "      <td>0.162485</td>\n",
       "      <td>0.151825</td>\n",
       "      <td>1.000000</td>\n",
       "      <td>0.155356</td>\n",
       "    </tr>\n",
       "    <tr>\n",
       "      <th>PAY_AMT6</th>\n",
       "      <td>0.003685</td>\n",
       "      <td>0.219727</td>\n",
       "      <td>-0.007224</td>\n",
       "      <td>0.020027</td>\n",
       "      <td>-0.058918</td>\n",
       "      <td>-0.036442</td>\n",
       "      <td>-0.035611</td>\n",
       "      <td>-0.026512</td>\n",
       "      <td>-0.023010</td>\n",
       "      <td>-0.025322</td>\n",
       "      <td>...</td>\n",
       "      <td>0.182455</td>\n",
       "      <td>0.177437</td>\n",
       "      <td>0.164245</td>\n",
       "      <td>0.115888</td>\n",
       "      <td>0.186060</td>\n",
       "      <td>0.157741</td>\n",
       "      <td>0.163200</td>\n",
       "      <td>0.157613</td>\n",
       "      <td>0.155356</td>\n",
       "      <td>1.000000</td>\n",
       "    </tr>\n",
       "  </tbody>\n",
       "</table>\n",
       "<p>22 rows × 22 columns</p>\n",
       "</div>"
      ],
      "text/plain": [
       "                 ID  LIMIT_BAL  MARRIAGE       AGE     PAY_0     PAY_2  \\\n",
       "ID         1.000000   0.025781 -0.030762  0.019679 -0.030847 -0.010728   \n",
       "LIMIT_BAL  0.025781   1.000000 -0.109024  0.146340 -0.271197 -0.296601   \n",
       "MARRIAGE  -0.030762  -0.109024  1.000000 -0.414769  0.020399  0.024421   \n",
       "AGE        0.019679   0.146340 -0.414769  1.000000 -0.039523 -0.050396   \n",
       "PAY_0     -0.030847  -0.271197  0.020399 -0.039523  1.000000  0.671046   \n",
       "PAY_2     -0.010728  -0.296601  0.024421 -0.050396  0.671046  1.000000   \n",
       "PAY_3     -0.018823  -0.285772  0.032552 -0.053452  0.573129  0.766644   \n",
       "PAY_4     -0.002375  -0.267111  0.033364 -0.049858  0.538270  0.662888   \n",
       "PAY_5     -0.022670  -0.249155  0.035837 -0.053864  0.508541  0.623214   \n",
       "PAY_6     -0.020165  -0.235144  0.034540 -0.048828  0.473786  0.576278   \n",
       "BILL_AMT1  0.019936   0.285503 -0.024432  0.057050  0.186715  0.234934   \n",
       "BILL_AMT2  0.018272   0.278609 -0.022637  0.055121  0.189498  0.235260   \n",
       "BILL_AMT3  0.024698   0.283612 -0.025951  0.054607  0.179449  0.224119   \n",
       "BILL_AMT4  0.040046   0.294272 -0.023924  0.051887  0.178715  0.222038   \n",
       "BILL_AMT5  0.016836   0.296017 -0.026313  0.050184  0.180322  0.221308   \n",
       "BILL_AMT6  0.017024   0.290658 -0.022284  0.048665  0.176729  0.219393   \n",
       "PAY_AMT1   0.010087   0.195705 -0.006241  0.026285 -0.079303 -0.080536   \n",
       "PAY_AMT2   0.009335   0.178651 -0.008453  0.022458 -0.070163 -0.058890   \n",
       "PAY_AMT3   0.038683   0.210122 -0.003520  0.029600 -0.070217 -0.055445   \n",
       "PAY_AMT4   0.006852   0.203782 -0.012547  0.021829 -0.064074 -0.046709   \n",
       "PAY_AMT5   0.000542   0.216735 -0.001526  0.023410 -0.058036 -0.036810   \n",
       "PAY_AMT6   0.003685   0.219727 -0.007224  0.020027 -0.058918 -0.036442   \n",
       "\n",
       "              PAY_3     PAY_4     PAY_5     PAY_6  ...  BILL_AMT3  BILL_AMT4  \\\n",
       "ID        -0.018823 -0.002375 -0.022670 -0.020165  ...   0.024698   0.040046   \n",
       "LIMIT_BAL -0.285772 -0.267111 -0.249155 -0.235144  ...   0.283612   0.294272   \n",
       "MARRIAGE   0.032552  0.033364  0.035837  0.034540  ...  -0.025951  -0.023924   \n",
       "AGE       -0.053452 -0.049858 -0.053864 -0.048828  ...   0.054607   0.051887   \n",
       "PAY_0      0.573129  0.538270  0.508541  0.473786  ...   0.179449   0.178715   \n",
       "PAY_2      0.766644  0.662888  0.623214  0.576278  ...   0.224119   0.222038   \n",
       "PAY_3      1.000000  0.777506  0.686727  0.632586  ...   0.227510   0.226995   \n",
       "PAY_4      0.777506  1.000000  0.820014  0.716631  ...   0.245418   0.246138   \n",
       "PAY_5      0.686727  0.820014  1.000000  0.816584  ...   0.243696   0.271735   \n",
       "PAY_6      0.632586  0.716631  0.816584  1.000000  ...   0.241429   0.266044   \n",
       "BILL_AMT1  0.208584  0.203300  0.207097  0.207716  ...   0.892748   0.860048   \n",
       "BILL_AMT2  0.237287  0.226164  0.227203  0.227141  ...   0.928635   0.892197   \n",
       "BILL_AMT3  0.227510  0.245418  0.243696  0.241429  ...   1.000000   0.923533   \n",
       "BILL_AMT4  0.226995  0.246138  0.271735  0.266044  ...   0.923533   1.000000   \n",
       "BILL_AMT5  0.225099  0.243434  0.269986  0.290743  ...   0.884207   0.939711   \n",
       "BILL_AMT6  0.222317  0.239677  0.262709  0.285018  ...   0.854009   0.900876   \n",
       "PAY_AMT1   0.001482 -0.009369 -0.006147 -0.001582  ...   0.244638   0.233380   \n",
       "PAY_AMT2  -0.066759 -0.001747 -0.003124 -0.005164  ...   0.316918   0.207723   \n",
       "PAY_AMT3  -0.053015 -0.069082  0.008976  0.005765  ...   0.130812   0.299919   \n",
       "PAY_AMT4  -0.045961 -0.043298 -0.058010  0.018856  ...   0.143825   0.133110   \n",
       "PAY_AMT5  -0.035563 -0.033783 -0.033543 -0.046566  ...   0.180048   0.160797   \n",
       "PAY_AMT6  -0.035611 -0.026512 -0.023010 -0.025322  ...   0.182455   0.177437   \n",
       "\n",
       "           BILL_AMT5  BILL_AMT6  PAY_AMT1  PAY_AMT2  PAY_AMT3  PAY_AMT4  \\\n",
       "ID          0.016836   0.017024  0.010087  0.009335  0.038683  0.006852   \n",
       "LIMIT_BAL   0.296017   0.290658  0.195705  0.178651  0.210122  0.203782   \n",
       "MARRIAGE   -0.026313  -0.022284 -0.006241 -0.008453 -0.003520 -0.012547   \n",
       "AGE         0.050184   0.048665  0.026285  0.022458  0.029600  0.021829   \n",
       "PAY_0       0.180322   0.176729 -0.079303 -0.070163 -0.070217 -0.064074   \n",
       "PAY_2       0.221308   0.219393 -0.080536 -0.058890 -0.055445 -0.046709   \n",
       "PAY_3       0.225099   0.222317  0.001482 -0.066759 -0.053015 -0.045961   \n",
       "PAY_4       0.243434   0.239677 -0.009369 -0.001747 -0.069082 -0.043298   \n",
       "PAY_5       0.269986   0.262709 -0.006147 -0.003124  0.008976 -0.058010   \n",
       "PAY_6       0.290743   0.285018 -0.001582 -0.005164  0.005765  0.018856   \n",
       "BILL_AMT1   0.830086   0.803445  0.140893  0.099944  0.158135  0.158647   \n",
       "BILL_AMT2   0.860011   0.832315  0.280692  0.101486  0.152150  0.147903   \n",
       "BILL_AMT3   0.884207   0.854009  0.244638  0.316918  0.130812  0.143825   \n",
       "BILL_AMT4   0.939711   0.900876  0.233380  0.207723  0.299919  0.133110   \n",
       "BILL_AMT5   1.000000   0.946192  0.217514  0.181773  0.252306  0.293473   \n",
       "BILL_AMT6   0.946192   1.000000  0.200491  0.173195  0.234556  0.249783   \n",
       "PAY_AMT1    0.217514   0.200491  1.000000  0.285693  0.252589  0.199013   \n",
       "PAY_AMT2    0.181773   0.173195  0.285693  1.000000  0.244532  0.179591   \n",
       "PAY_AMT3    0.252306   0.234556  0.252589  0.244532  1.000000  0.215320   \n",
       "PAY_AMT4    0.293473   0.249783  0.199013  0.179591  0.215320  1.000000   \n",
       "PAY_AMT5    0.141162   0.307662  0.148701  0.180481  0.162485  0.151825   \n",
       "PAY_AMT6    0.164245   0.115888  0.186060  0.157741  0.163200  0.157613   \n",
       "\n",
       "           PAY_AMT5  PAY_AMT6  \n",
       "ID         0.000542  0.003685  \n",
       "LIMIT_BAL  0.216735  0.219727  \n",
       "MARRIAGE  -0.001526 -0.007224  \n",
       "AGE        0.023410  0.020027  \n",
       "PAY_0     -0.058036 -0.058918  \n",
       "PAY_2     -0.036810 -0.036442  \n",
       "PAY_3     -0.035563 -0.035611  \n",
       "PAY_4     -0.033783 -0.026512  \n",
       "PAY_5     -0.033543 -0.023010  \n",
       "PAY_6     -0.046566 -0.025322  \n",
       "BILL_AMT1  0.168106  0.179540  \n",
       "BILL_AMT2  0.159251  0.174527  \n",
       "BILL_AMT3  0.180048  0.182455  \n",
       "BILL_AMT4  0.160797  0.177437  \n",
       "BILL_AMT5  0.141162  0.164245  \n",
       "BILL_AMT6  0.307662  0.115888  \n",
       "PAY_AMT1   0.148701  0.186060  \n",
       "PAY_AMT2   0.180481  0.157741  \n",
       "PAY_AMT3   0.162485  0.163200  \n",
       "PAY_AMT4   0.151825  0.157613  \n",
       "PAY_AMT5   1.000000  0.155356  \n",
       "PAY_AMT6   0.155356  1.000000  \n",
       "\n",
       "[22 rows x 22 columns]"
      ]
     },
     "execution_count": 19,
     "metadata": {},
     "output_type": "execute_result"
    }
   ],
   "source": [
    "corrMat = filteredData.corr()\n",
    "corrMat "
   ]
  },
  {
   "cell_type": "code",
   "execution_count": 20,
   "id": "27e862fe-dfe8-40ec-aeb2-f421df486e33",
   "metadata": {
    "tags": []
   },
   "outputs": [
    {
     "data": {
      "image/png": "[encoded data removed]",
      "text/plain": [
       "<Figure size 432x288 with 2 Axes>"
      ]
     },
     "metadata": {
      "needs_background": "light"
     },
     "output_type": "display_data"
    }
   ],
   "source": [
    "sns.heatmap(corrMat, cmap='coolwarm')\n",
    "pass"
   ]
  },
  {
   "cell_type": "markdown",
   "id": "a5d25541-b89c-411a-8e58-f12982195654",
   "metadata": {},
   "source": [
    "<h2>Проверяем значения на NaN  и все остальное, далее обрабатываем категориальные признаки</h2>"
   ]
  },
  {
   "cell_type": "code",
   "execution_count": 21,
   "id": "42ae1e7b-1f2e-482d-aa3c-6ae8d13df0ab",
   "metadata": {},
   "outputs": [
    {
     "data": {
      "text/plain": [
       "ID                            0\n",
       "LIMIT_BAL                     0\n",
       "SEX                           0\n",
       "EDUCATION                     0\n",
       "MARRIAGE                      0\n",
       "AGE                           0\n",
       "PAY_0                         0\n",
       "PAY_2                         0\n",
       "PAY_3                         0\n",
       "PAY_4                         0\n",
       "PAY_5                         0\n",
       "PAY_6                         0\n",
       "BILL_AMT1                     0\n",
       "BILL_AMT2                     0\n",
       "BILL_AMT3                     0\n",
       "BILL_AMT4                     0\n",
       "BILL_AMT5                     0\n",
       "BILL_AMT6                     0\n",
       "PAY_AMT1                      0\n",
       "PAY_AMT2                      0\n",
       "PAY_AMT3                      0\n",
       "PAY_AMT4                      0\n",
       "PAY_AMT5                      0\n",
       "PAY_AMT6                      0\n",
       "default payment next month    0\n",
       "dtype: int64"
      ]
     },
     "execution_count": 21,
     "metadata": {},
     "output_type": "execute_result"
    }
   ],
   "source": [
    "filteredData.isna().sum()"
   ]
  },
  {
   "cell_type": "code",
   "execution_count": 22,
   "id": "312cfc0c-de87-44ab-a572-589bd2147602",
   "metadata": {},
   "outputs": [],
   "source": [
    "filteredData['default payment next month'] = pd.factorize(filteredData['default payment next month'])[0]\n",
    "educationalDummies = pd.get_dummies(filteredData['EDUCATION'])\n",
    "sexStatusDummies =  pd.get_dummies(filteredData['SEX'])"
   ]
  },
  {
   "cell_type": "code",
   "execution_count": 23,
   "id": "c18b28fc-2599-4f40-9148-5411d16d9368",
   "metadata": {},
   "outputs": [
    {
     "data": {
      "text/html": [
       "<div>\n",
       "<style scoped>\n",
       "    .dataframe tbody tr th:only-of-type {\n",
       "        vertical-align: middle;\n",
       "    }\n",
       "\n",
       "    .dataframe tbody tr th {\n",
       "        vertical-align: top;\n",
       "    }\n",
       "\n",
       "    .dataframe thead th {\n",
       "        text-align: right;\n",
       "    }\n",
       "</style>\n",
       "<table border=\"1\" class=\"dataframe\">\n",
       "  <thead>\n",
       "    <tr style=\"text-align: right;\">\n",
       "      <th></th>\n",
       "      <th>EDUCATION</th>\n",
       "      <th>X3</th>\n",
       "      <th>graduate school</th>\n",
       "      <th>high school</th>\n",
       "      <th>other</th>\n",
       "      <th>university</th>\n",
       "    </tr>\n",
       "  </thead>\n",
       "  <tbody>\n",
       "    <tr>\n",
       "      <th>0</th>\n",
       "      <td>0</td>\n",
       "      <td>0</td>\n",
       "      <td>0</td>\n",
       "      <td>0</td>\n",
       "      <td>0</td>\n",
       "      <td>1</td>\n",
       "    </tr>\n",
       "    <tr>\n",
       "      <th>1</th>\n",
       "      <td>0</td>\n",
       "      <td>0</td>\n",
       "      <td>0</td>\n",
       "      <td>0</td>\n",
       "      <td>0</td>\n",
       "      <td>1</td>\n",
       "    </tr>\n",
       "    <tr>\n",
       "      <th>2</th>\n",
       "      <td>0</td>\n",
       "      <td>0</td>\n",
       "      <td>0</td>\n",
       "      <td>0</td>\n",
       "      <td>0</td>\n",
       "      <td>1</td>\n",
       "    </tr>\n",
       "    <tr>\n",
       "      <th>3</th>\n",
       "      <td>0</td>\n",
       "      <td>0</td>\n",
       "      <td>0</td>\n",
       "      <td>0</td>\n",
       "      <td>0</td>\n",
       "      <td>1</td>\n",
       "    </tr>\n",
       "    <tr>\n",
       "      <th>4</th>\n",
       "      <td>0</td>\n",
       "      <td>0</td>\n",
       "      <td>0</td>\n",
       "      <td>0</td>\n",
       "      <td>0</td>\n",
       "      <td>1</td>\n",
       "    </tr>\n",
       "  </tbody>\n",
       "</table>\n",
       "</div>"
      ],
      "text/plain": [
       "   EDUCATION  X3  graduate school  high school  other  university\n",
       "0          0   0                0            0      0           1\n",
       "1          0   0                0            0      0           1\n",
       "2          0   0                0            0      0           1\n",
       "3          0   0                0            0      0           1\n",
       "4          0   0                0            0      0           1"
      ]
     },
     "execution_count": 23,
     "metadata": {},
     "output_type": "execute_result"
    }
   ],
   "source": [
    "educationalDummies.head()"
   ]
  },
  {
   "cell_type": "code",
   "execution_count": 24,
   "id": "a4da822e-eb90-4f2e-8483-c51a271d437d",
   "metadata": {},
   "outputs": [
    {
     "data": {
      "text/html": [
       "<div>\n",
       "<style scoped>\n",
       "    .dataframe tbody tr th:only-of-type {\n",
       "        vertical-align: middle;\n",
       "    }\n",
       "\n",
       "    .dataframe tbody tr th {\n",
       "        vertical-align: top;\n",
       "    }\n",
       "\n",
       "    .dataframe thead th {\n",
       "        text-align: right;\n",
       "    }\n",
       "</style>\n",
       "<table border=\"1\" class=\"dataframe\">\n",
       "  <thead>\n",
       "    <tr style=\"text-align: right;\">\n",
       "      <th></th>\n",
       "      <th>SEX</th>\n",
       "      <th>X2</th>\n",
       "      <th>female</th>\n",
       "      <th>male</th>\n",
       "    </tr>\n",
       "  </thead>\n",
       "  <tbody>\n",
       "    <tr>\n",
       "      <th>0</th>\n",
       "      <td>0</td>\n",
       "      <td>0</td>\n",
       "      <td>1</td>\n",
       "      <td>0</td>\n",
       "    </tr>\n",
       "    <tr>\n",
       "      <th>1</th>\n",
       "      <td>0</td>\n",
       "      <td>0</td>\n",
       "      <td>1</td>\n",
       "      <td>0</td>\n",
       "    </tr>\n",
       "    <tr>\n",
       "      <th>2</th>\n",
       "      <td>0</td>\n",
       "      <td>0</td>\n",
       "      <td>1</td>\n",
       "      <td>0</td>\n",
       "    </tr>\n",
       "    <tr>\n",
       "      <th>3</th>\n",
       "      <td>0</td>\n",
       "      <td>0</td>\n",
       "      <td>1</td>\n",
       "      <td>0</td>\n",
       "    </tr>\n",
       "    <tr>\n",
       "      <th>4</th>\n",
       "      <td>0</td>\n",
       "      <td>0</td>\n",
       "      <td>0</td>\n",
       "      <td>1</td>\n",
       "    </tr>\n",
       "  </tbody>\n",
       "</table>\n",
       "</div>"
      ],
      "text/plain": [
       "   SEX  X2  female  male\n",
       "0    0   0       1     0\n",
       "1    0   0       1     0\n",
       "2    0   0       1     0\n",
       "3    0   0       1     0\n",
       "4    0   0       0     1"
      ]
     },
     "execution_count": 24,
     "metadata": {},
     "output_type": "execute_result"
    }
   ],
   "source": [
    "sexStatusDummies.head()"
   ]
  },
  {
   "cell_type": "code",
   "execution_count": 25,
   "id": "af9b2322-c3d6-4366-8c26-3d022c433c16",
   "metadata": {},
   "outputs": [],
   "source": [
    "filteredData = pd.concat((filteredData, educationalDummies), axis=1)\n",
    "filteredData = pd.concat((filteredData, sexStatusDummies), axis=1)\n",
    "filteredData = filteredData.drop(['EDUCATION'], axis=1)\n",
    "filteredData = filteredData.drop(['SEX'], axis=1)"
   ]
  },
  {
   "cell_type": "markdown",
   "id": "b6cdeb08-7370-4afc-80e8-6189fb970502",
   "metadata": {},
   "source": [
    "<h1>Нормализуем значения</h1>"
   ]
  },
  {
   "cell_type": "code",
   "execution_count": 26,
   "id": "902cba53-5e00-4d81-a36c-ba0bfce4a795",
   "metadata": {},
   "outputs": [],
   "source": [
    "standartData = (filteredData - filteredData.mean(axis = 0))/filteredData.std(axis = 0)"
   ]
  },
  {
   "cell_type": "code",
   "execution_count": 27,
   "id": "39189329-bba7-4f29-8585-ed6aa937450d",
   "metadata": {},
   "outputs": [
    {
     "data": {
      "text/html": [
       "<div>\n",
       "<style scoped>\n",
       "    .dataframe tbody tr th:only-of-type {\n",
       "        vertical-align: middle;\n",
       "    }\n",
       "\n",
       "    .dataframe tbody tr th {\n",
       "        vertical-align: top;\n",
       "    }\n",
       "\n",
       "    .dataframe thead th {\n",
       "        text-align: right;\n",
       "    }\n",
       "</style>\n",
       "<table border=\"1\" class=\"dataframe\">\n",
       "  <thead>\n",
       "    <tr style=\"text-align: right;\">\n",
       "      <th></th>\n",
       "      <th>ID</th>\n",
       "      <th>LIMIT_BAL</th>\n",
       "      <th>MARRIAGE</th>\n",
       "      <th>AGE</th>\n",
       "      <th>PAY_0</th>\n",
       "      <th>PAY_2</th>\n",
       "      <th>PAY_3</th>\n",
       "      <th>PAY_4</th>\n",
       "      <th>PAY_5</th>\n",
       "      <th>PAY_6</th>\n",
       "      <th>...</th>\n",
       "      <th>PAY_AMT6</th>\n",
       "      <th>default payment next month</th>\n",
       "      <th>X3</th>\n",
       "      <th>graduate school</th>\n",
       "      <th>high school</th>\n",
       "      <th>other</th>\n",
       "      <th>university</th>\n",
       "      <th>X2</th>\n",
       "      <th>female</th>\n",
       "      <th>male</th>\n",
       "    </tr>\n",
       "  </thead>\n",
       "  <tbody>\n",
       "    <tr>\n",
       "      <th>count</th>\n",
       "      <td>3.020100e+04</td>\n",
       "      <td>3.020100e+04</td>\n",
       "      <td>3.020100e+04</td>\n",
       "      <td>3.020100e+04</td>\n",
       "      <td>30201.000000</td>\n",
       "      <td>3.020100e+04</td>\n",
       "      <td>3.020100e+04</td>\n",
       "      <td>3.020100e+04</td>\n",
       "      <td>3.020100e+04</td>\n",
       "      <td>3.020100e+04</td>\n",
       "      <td>...</td>\n",
       "      <td>3.020100e+04</td>\n",
       "      <td>3.020100e+04</td>\n",
       "      <td>0.0</td>\n",
       "      <td>3.020100e+04</td>\n",
       "      <td>3.020100e+04</td>\n",
       "      <td>3.020100e+04</td>\n",
       "      <td>3.020100e+04</td>\n",
       "      <td>0.0</td>\n",
       "      <td>30201.000000</td>\n",
       "      <td>30201.000000</td>\n",
       "    </tr>\n",
       "    <tr>\n",
       "      <th>mean</th>\n",
       "      <td>9.034416e-17</td>\n",
       "      <td>9.222633e-17</td>\n",
       "      <td>-3.764340e-17</td>\n",
       "      <td>-5.646510e-18</td>\n",
       "      <td>0.000000</td>\n",
       "      <td>-6.022944e-17</td>\n",
       "      <td>7.528680e-18</td>\n",
       "      <td>-1.035194e-17</td>\n",
       "      <td>-5.270076e-17</td>\n",
       "      <td>-1.882170e-18</td>\n",
       "      <td>...</td>\n",
       "      <td>7.293409e-18</td>\n",
       "      <td>-8.281548e-17</td>\n",
       "      <td>NaN</td>\n",
       "      <td>-6.869921e-17</td>\n",
       "      <td>9.787284e-17</td>\n",
       "      <td>7.528680e-18</td>\n",
       "      <td>2.635038e-17</td>\n",
       "      <td>NaN</td>\n",
       "      <td>0.000000</td>\n",
       "      <td>0.000000</td>\n",
       "    </tr>\n",
       "    <tr>\n",
       "      <th>std</th>\n",
       "      <td>1.000000e+00</td>\n",
       "      <td>1.000000e+00</td>\n",
       "      <td>1.000000e+00</td>\n",
       "      <td>1.000000e+00</td>\n",
       "      <td>1.000000</td>\n",
       "      <td>1.000000e+00</td>\n",
       "      <td>1.000000e+00</td>\n",
       "      <td>1.000000e+00</td>\n",
       "      <td>1.000000e+00</td>\n",
       "      <td>1.000000e+00</td>\n",
       "      <td>...</td>\n",
       "      <td>1.000000e+00</td>\n",
       "      <td>1.000000e+00</td>\n",
       "      <td>NaN</td>\n",
       "      <td>1.000000e+00</td>\n",
       "      <td>1.000000e+00</td>\n",
       "      <td>1.000000e+00</td>\n",
       "      <td>1.000000e+00</td>\n",
       "      <td>NaN</td>\n",
       "      <td>1.000000</td>\n",
       "      <td>1.000000</td>\n",
       "    </tr>\n",
       "    <tr>\n",
       "      <th>min</th>\n",
       "      <td>-1.709512e+00</td>\n",
       "      <td>-1.213341e+00</td>\n",
       "      <td>-2.974497e+00</td>\n",
       "      <td>-1.570018e+00</td>\n",
       "      <td>-1.765519</td>\n",
       "      <td>-1.558214e+00</td>\n",
       "      <td>-1.531914e+00</td>\n",
       "      <td>-1.522070e+00</td>\n",
       "      <td>-1.530160e+00</td>\n",
       "      <td>-1.485481e+00</td>\n",
       "      <td>...</td>\n",
       "      <td>-2.936182e-01</td>\n",
       "      <td>-1.876070e+00</td>\n",
       "      <td>NaN</td>\n",
       "      <td>-7.392234e-01</td>\n",
       "      <td>-4.428545e-01</td>\n",
       "      <td>-1.257294e-01</td>\n",
       "      <td>-9.362205e-01</td>\n",
       "      <td>NaN</td>\n",
       "      <td>-1.232907</td>\n",
       "      <td>-0.811064</td>\n",
       "    </tr>\n",
       "    <tr>\n",
       "      <th>25%</th>\n",
       "      <td>-8.663631e-01</td>\n",
       "      <td>-9.051670e-01</td>\n",
       "      <td>-1.058555e+00</td>\n",
       "      <td>-8.109629e-01</td>\n",
       "      <td>-0.875525</td>\n",
       "      <td>-7.231572e-01</td>\n",
       "      <td>-6.967243e-01</td>\n",
       "      <td>-6.665485e-01</td>\n",
       "      <td>-6.478743e-01</td>\n",
       "      <td>-6.162787e-01</td>\n",
       "      <td>...</td>\n",
       "      <td>-2.873038e-01</td>\n",
       "      <td>5.330115e-01</td>\n",
       "      <td>NaN</td>\n",
       "      <td>-7.392234e-01</td>\n",
       "      <td>-4.428545e-01</td>\n",
       "      <td>-1.257294e-01</td>\n",
       "      <td>-9.362205e-01</td>\n",
       "      <td>NaN</td>\n",
       "      <td>-1.232907</td>\n",
       "      <td>-0.811064</td>\n",
       "    </tr>\n",
       "    <tr>\n",
       "      <th>50%</th>\n",
       "      <td>-1.534782e-04</td>\n",
       "      <td>-2.117757e-01</td>\n",
       "      <td>8.573874e-01</td>\n",
       "      <td>-1.603442e-01</td>\n",
       "      <td>0.014469</td>\n",
       "      <td>1.118994e-01</td>\n",
       "      <td>1.384654e-01</td>\n",
       "      <td>1.889734e-01</td>\n",
       "      <td>2.344115e-01</td>\n",
       "      <td>2.529238e-01</td>\n",
       "      <td>...</td>\n",
       "      <td>-2.090511e-01</td>\n",
       "      <td>5.330115e-01</td>\n",
       "      <td>NaN</td>\n",
       "      <td>-7.392234e-01</td>\n",
       "      <td>-4.428545e-01</td>\n",
       "      <td>-1.257294e-01</td>\n",
       "      <td>-9.362205e-01</td>\n",
       "      <td>NaN</td>\n",
       "      <td>0.811064</td>\n",
       "      <td>-0.811064</td>\n",
       "    </tr>\n",
       "    <tr>\n",
       "      <th>75%</th>\n",
       "      <td>8.660561e-01</td>\n",
       "      <td>5.586590e-01</td>\n",
       "      <td>8.573874e-01</td>\n",
       "      <td>5.987110e-01</td>\n",
       "      <td>0.014469</td>\n",
       "      <td>1.118994e-01</td>\n",
       "      <td>1.384654e-01</td>\n",
       "      <td>1.889734e-01</td>\n",
       "      <td>2.344115e-01</td>\n",
       "      <td>2.529238e-01</td>\n",
       "      <td>...</td>\n",
       "      <td>-6.810608e-02</td>\n",
       "      <td>5.330115e-01</td>\n",
       "      <td>NaN</td>\n",
       "      <td>1.352726e+00</td>\n",
       "      <td>-4.428545e-01</td>\n",
       "      <td>-1.257294e-01</td>\n",
       "      <td>1.068089e+00</td>\n",
       "      <td>NaN</td>\n",
       "      <td>0.811064</td>\n",
       "      <td>1.232907</td>\n",
       "    </tr>\n",
       "    <tr>\n",
       "      <th>max</th>\n",
       "      <td>1.732266e+00</td>\n",
       "      <td>6.413963e+00</td>\n",
       "      <td>2.773329e+00</td>\n",
       "      <td>4.719296e+00</td>\n",
       "      <td>7.134421</td>\n",
       "      <td>6.792353e+00</td>\n",
       "      <td>6.819983e+00</td>\n",
       "      <td>7.033149e+00</td>\n",
       "      <td>7.292697e+00</td>\n",
       "      <td>7.206544e+00</td>\n",
       "      <td>...</td>\n",
       "      <td>2.951153e+01</td>\n",
       "      <td>5.330115e-01</td>\n",
       "      <td>NaN</td>\n",
       "      <td>1.352726e+00</td>\n",
       "      <td>2.258003e+00</td>\n",
       "      <td>7.953323e+00</td>\n",
       "      <td>1.068089e+00</td>\n",
       "      <td>NaN</td>\n",
       "      <td>0.811064</td>\n",
       "      <td>1.232907</td>\n",
       "    </tr>\n",
       "  </tbody>\n",
       "</table>\n",
       "<p>8 rows × 31 columns</p>\n",
       "</div>"
      ],
      "text/plain": [
       "                 ID     LIMIT_BAL      MARRIAGE           AGE         PAY_0  \\\n",
       "count  3.020100e+04  3.020100e+04  3.020100e+04  3.020100e+04  30201.000000   \n",
       "mean   9.034416e-17  9.222633e-17 -3.764340e-17 -5.646510e-18      0.000000   \n",
       "std    1.000000e+00  1.000000e+00  1.000000e+00  1.000000e+00      1.000000   \n",
       "min   -1.709512e+00 -1.213341e+00 -2.974497e+00 -1.570018e+00     -1.765519   \n",
       "25%   -8.663631e-01 -9.051670e-01 -1.058555e+00 -8.109629e-01     -0.875525   \n",
       "50%   -1.534782e-04 -2.117757e-01  8.573874e-01 -1.603442e-01      0.014469   \n",
       "75%    8.660561e-01  5.586590e-01  8.573874e-01  5.987110e-01      0.014469   \n",
       "max    1.732266e+00  6.413963e+00  2.773329e+00  4.719296e+00      7.134421   \n",
       "\n",
       "              PAY_2         PAY_3         PAY_4         PAY_5         PAY_6  \\\n",
       "count  3.020100e+04  3.020100e+04  3.020100e+04  3.020100e+04  3.020100e+04   \n",
       "mean  -6.022944e-17  7.528680e-18 -1.035194e-17 -5.270076e-17 -1.882170e-18   \n",
       "std    1.000000e+00  1.000000e+00  1.000000e+00  1.000000e+00  1.000000e+00   \n",
       "min   -1.558214e+00 -1.531914e+00 -1.522070e+00 -1.530160e+00 -1.485481e+00   \n",
       "25%   -7.231572e-01 -6.967243e-01 -6.665485e-01 -6.478743e-01 -6.162787e-01   \n",
       "50%    1.118994e-01  1.384654e-01  1.889734e-01  2.344115e-01  2.529238e-01   \n",
       "75%    1.118994e-01  1.384654e-01  1.889734e-01  2.344115e-01  2.529238e-01   \n",
       "max    6.792353e+00  6.819983e+00  7.033149e+00  7.292697e+00  7.206544e+00   \n",
       "\n",
       "       ...      PAY_AMT6  default payment next month   X3  graduate school  \\\n",
       "count  ...  3.020100e+04                3.020100e+04  0.0     3.020100e+04   \n",
       "mean   ...  7.293409e-18               -8.281548e-17  NaN    -6.869921e-17   \n",
       "std    ...  1.000000e+00                1.000000e+00  NaN     1.000000e+00   \n",
       "min    ... -2.936182e-01               -1.876070e+00  NaN    -7.392234e-01   \n",
       "25%    ... -2.873038e-01                5.330115e-01  NaN    -7.392234e-01   \n",
       "50%    ... -2.090511e-01                5.330115e-01  NaN    -7.392234e-01   \n",
       "75%    ... -6.810608e-02                5.330115e-01  NaN     1.352726e+00   \n",
       "max    ...  2.951153e+01                5.330115e-01  NaN     1.352726e+00   \n",
       "\n",
       "        high school         other    university   X2        female  \\\n",
       "count  3.020100e+04  3.020100e+04  3.020100e+04  0.0  30201.000000   \n",
       "mean   9.787284e-17  7.528680e-18  2.635038e-17  NaN      0.000000   \n",
       "std    1.000000e+00  1.000000e+00  1.000000e+00  NaN      1.000000   \n",
       "min   -4.428545e-01 -1.257294e-01 -9.362205e-01  NaN     -1.232907   \n",
       "25%   -4.428545e-01 -1.257294e-01 -9.362205e-01  NaN     -1.232907   \n",
       "50%   -4.428545e-01 -1.257294e-01 -9.362205e-01  NaN      0.811064   \n",
       "75%   -4.428545e-01 -1.257294e-01  1.068089e+00  NaN      0.811064   \n",
       "max    2.258003e+00  7.953323e+00  1.068089e+00  NaN      0.811064   \n",
       "\n",
       "               male  \n",
       "count  30201.000000  \n",
       "mean       0.000000  \n",
       "std        1.000000  \n",
       "min       -0.811064  \n",
       "25%       -0.811064  \n",
       "50%       -0.811064  \n",
       "75%        1.232907  \n",
       "max        1.232907  \n",
       "\n",
       "[8 rows x 31 columns]"
      ]
     },
     "execution_count": 27,
     "metadata": {},
     "output_type": "execute_result"
    }
   ],
   "source": [
    "standartData.describe()"
   ]
  },
  {
   "cell_type": "code",
   "execution_count": 28,
   "id": "fe8bac41-d78a-457f-be4e-6cb06553d9fd",
   "metadata": {},
   "outputs": [
    {
     "data": {
      "text/plain": [
       "Index(['ID', 'LIMIT_BAL', 'MARRIAGE', 'AGE', 'PAY_0', 'PAY_2', 'PAY_3',\n",
       "       'PAY_4', 'PAY_5', 'PAY_6', 'BILL_AMT1', 'BILL_AMT2', 'BILL_AMT3',\n",
       "       'BILL_AMT4', 'BILL_AMT5', 'BILL_AMT6', 'PAY_AMT1', 'PAY_AMT2',\n",
       "       'PAY_AMT3', 'PAY_AMT4', 'PAY_AMT5', 'PAY_AMT6',\n",
       "       'default payment next month', 'X3', 'graduate school', 'high school',\n",
       "       'other', 'university', 'X2', 'female', 'male'],\n",
       "      dtype='object')"
      ]
     },
     "execution_count": 28,
     "metadata": {},
     "output_type": "execute_result"
    }
   ],
   "source": [
    "standartData.columns"
   ]
  },
  {
   "cell_type": "code",
   "execution_count": 29,
   "id": "48c211a8-c8e1-4446-83f4-845d95e8470a",
   "metadata": {},
   "outputs": [
    {
     "data": {
      "text/plain": [
       "ID                                0\n",
       "LIMIT_BAL                         0\n",
       "MARRIAGE                          0\n",
       "AGE                               0\n",
       "PAY_0                             0\n",
       "PAY_2                             0\n",
       "PAY_3                             0\n",
       "PAY_4                             0\n",
       "PAY_5                             0\n",
       "PAY_6                             0\n",
       "BILL_AMT1                         0\n",
       "BILL_AMT2                         0\n",
       "BILL_AMT3                         0\n",
       "BILL_AMT4                         0\n",
       "BILL_AMT5                         0\n",
       "BILL_AMT6                         0\n",
       "PAY_AMT1                          0\n",
       "PAY_AMT2                          0\n",
       "PAY_AMT3                          0\n",
       "PAY_AMT4                          0\n",
       "PAY_AMT5                          0\n",
       "PAY_AMT6                          0\n",
       "default payment next month        0\n",
       "X3                            30201\n",
       "graduate school                   0\n",
       "high school                       0\n",
       "other                             0\n",
       "university                        0\n",
       "X2                            30201\n",
       "female                            0\n",
       "male                              0\n",
       "dtype: int64"
      ]
     },
     "execution_count": 29,
     "metadata": {},
     "output_type": "execute_result"
    }
   ],
   "source": [
    "standartData.dropna()      \n",
    "standartData.isna().sum()"
   ]
  },
  {
   "cell_type": "code",
   "execution_count": 30,
   "id": "c867aef3-864b-4713-9e40-d428a95a96f1",
   "metadata": {},
   "outputs": [],
   "source": [
    "X = standartData.drop(['X2','X3','default payment next month'],axis = 1)\n",
    "Y = filteredData['default payment next month']"
   ]
  },
  {
   "cell_type": "markdown",
   "id": "7e935d8c-e5fd-4a76-8b2e-58abb3c5524a",
   "metadata": {},
   "source": [
    "<h1>Разбиение на тестовые и обучающую выборки</h1>"
   ]
  },
  {
   "cell_type": "code",
   "execution_count": 31,
   "id": "aea6e489-ad0d-4270-b005-acad4845a5a7",
   "metadata": {},
   "outputs": [
    {
     "data": {
      "text/plain": [
       "(24160, 6041)"
      ]
     },
     "execution_count": 31,
     "metadata": {},
     "output_type": "execute_result"
    }
   ],
   "source": [
    "X_train, X_test, Y_train, Y_test = train_test_split(X, Y, test_size = 0.20, random_state = 42)\n",
    "\n",
    "N_train, _ = X_train.shape \n",
    "N_test,  _ = X_test.shape \n",
    "\n",
    "N_train, N_test"
   ]
  },
  {
   "cell_type": "markdown",
   "id": "dbc105e5-46cd-4b7c-8742-bb9a349d26af",
   "metadata": {},
   "source": [
    "<h2>Пробуем различное количество соседей</h2>"
   ]
  },
  {
   "cell_type": "markdown",
   "id": "ee2a9c78-4ed5-4f99-b9ab-8231399bc244",
   "metadata": {},
   "source": [
    "<h4>n = 5</h4>"
   ]
  },
  {
   "cell_type": "code",
   "execution_count": 32,
   "id": "3a148e0f-4cba-4b43-9d6a-89a8ff183c78",
   "metadata": {},
   "outputs": [
    {
     "name": "stdout",
     "output_type": "stream",
     "text": [
      "[[ 464  876]\n",
      " [ 392 4309]]\n",
      "              precision    recall  f1-score   support\n",
      "\n",
      "           0       0.54      0.35      0.42      1340\n",
      "           1       0.83      0.92      0.87      4701\n",
      "\n",
      "    accuracy                           0.79      6041\n",
      "   macro avg       0.69      0.63      0.65      6041\n",
      "weighted avg       0.77      0.79      0.77      6041\n",
      "\n"
     ]
    },
    {
     "data": {
      "text/plain": [
       "(0.15691225165562914, 0.20989902334050653)"
      ]
     },
     "execution_count": 32,
     "metadata": {},
     "output_type": "execute_result"
    }
   ],
   "source": [
    "knn = KNeighborsClassifier()\n",
    "knn.set_params(n_neighbors=5)\n",
    "knn.fit(X_train.values, Y_train)\n",
    "y_train_pred = knn.predict(X_train.values)\n",
    "y_test_pred = knn.predict(X_test.values)\n",
    "print(confusion_matrix(Y_test,y_test_pred))\n",
    "print(classification_report(Y_test,y_test_pred))\n",
    "np.mean(Y_train != y_train_pred), np.mean(Y_test != y_test_pred)"
   ]
  },
  {
   "cell_type": "markdown",
   "id": "be95f169-dc83-4c5b-bb9e-159183d0dd43",
   "metadata": {},
   "source": [
    "<h4>n = 7</h4>"
   ]
  },
  {
   "cell_type": "code",
   "execution_count": 33,
   "id": "052d998c-002a-4021-9321-aa0fd05d2609",
   "metadata": {},
   "outputs": [
    {
     "name": "stdout",
     "output_type": "stream",
     "text": [
      "[[ 454  886]\n",
      " [ 316 4385]]\n",
      "              precision    recall  f1-score   support\n",
      "\n",
      "           0       0.59      0.34      0.43      1340\n",
      "           1       0.83      0.93      0.88      4701\n",
      "\n",
      "    accuracy                           0.80      6041\n",
      "   macro avg       0.71      0.64      0.65      6041\n",
      "weighted avg       0.78      0.80      0.78      6041\n",
      "\n"
     ]
    },
    {
     "data": {
      "text/plain": [
       "(0.1658112582781457, 0.19897367985432876)"
      ]
     },
     "execution_count": 33,
     "metadata": {},
     "output_type": "execute_result"
    }
   ],
   "source": [
    "knn = KNeighborsClassifier()\n",
    "knn.set_params(n_neighbors=7)\n",
    "knn.fit(X_train.values, Y_train)\n",
    "y_train_pred = knn.predict(X_train.values)\n",
    "y_test_pred = knn.predict(X_test.values)\n",
    "print(confusion_matrix(Y_test,y_test_pred))\n",
    "print(classification_report(Y_test,y_test_pred))\n",
    "np.mean(Y_train != y_train_pred), np.mean(Y_test != y_test_pred)"
   ]
  },
  {
   "cell_type": "markdown",
   "id": "3478ee5d-143d-46ca-abcd-2acae56f3268",
   "metadata": {},
   "source": [
    "<h4>n = 12</h4>"
   ]
  },
  {
   "cell_type": "code",
   "execution_count": 34,
   "id": "23a99665-e589-4bfc-a236-53ff821aad0b",
   "metadata": {},
   "outputs": [
    {
     "name": "stdout",
     "output_type": "stream",
     "text": [
      "[[ 477  863]\n",
      " [ 298 4403]]\n",
      "              precision    recall  f1-score   support\n",
      "\n",
      "           0       0.62      0.36      0.45      1340\n",
      "           1       0.84      0.94      0.88      4701\n",
      "\n",
      "    accuracy                           0.81      6041\n",
      "   macro avg       0.73      0.65      0.67      6041\n",
      "weighted avg       0.79      0.81      0.79      6041\n",
      "\n"
     ]
    },
    {
     "data": {
      "text/plain": [
       "(0.17603476821192052, 0.19218672405230922)"
      ]
     },
     "execution_count": 34,
     "metadata": {},
     "output_type": "execute_result"
    }
   ],
   "source": [
    "knn = KNeighborsClassifier()\n",
    "knn.set_params(n_neighbors=12)\n",
    "knn.fit(X_train.values, Y_train)\n",
    "y_train_pred = knn.predict(X_train.values)\n",
    "y_test_pred = knn.predict(X_test.values)\n",
    "print(confusion_matrix(Y_test,y_test_pred))\n",
    "print(classification_report(Y_test,y_test_pred))\n",
    "np.mean(Y_train != y_train_pred), np.mean(Y_test != y_test_pred)"
   ]
  },
  {
   "cell_type": "markdown",
   "id": "af5f644b-f293-417e-acb3-fb869d6dd38a",
   "metadata": {
    "tags": []
   },
   "source": [
    "<h1>Классификатор SVС</h1> "
   ]
  },
  {
   "cell_type": "markdown",
   "id": "258925c2-22d3-4a36-8b59-c9f1f9a9f6ed",
   "metadata": {},
   "source": [
    "<h2>Сначала используем исходные</h2> "
   ]
  },
  {
   "cell_type": "code",
   "execution_count": 35,
   "id": "646ed28e-ae74-4dcf-8ff5-4338e7526a9b",
   "metadata": {},
   "outputs": [],
   "source": [
    "X = standartData.drop(['X2','X3','default payment next month'],axis = 1)\n",
    "Y = filteredData['default payment next month']"
   ]
  },
  {
   "cell_type": "code",
   "execution_count": 36,
   "id": "bd2b3742-8582-4d9d-ad33-4c61b288124e",
   "metadata": {},
   "outputs": [
    {
     "data": {
      "text/plain": [
       "(24160, 6041)"
      ]
     },
     "execution_count": 36,
     "metadata": {},
     "output_type": "execute_result"
    }
   ],
   "source": [
    "X_train, X_test, Y_train, Y_test = train_test_split(X, Y, test_size = 0.20, random_state = 42)\n",
    "\n",
    "N_train, _ = X_train.shape \n",
    "N_test,  _ = X_test.shape \n",
    "\n",
    "N_train, N_test"
   ]
  },
  {
   "cell_type": "code",
   "execution_count": 37,
   "id": "c8387ce6-6882-47f4-96ac-428988c1c59c",
   "metadata": {},
   "outputs": [
    {
     "data": {
      "text/plain": [
       "SVC(kernel='linear')"
      ]
     },
     "execution_count": 37,
     "metadata": {},
     "output_type": "execute_result"
    }
   ],
   "source": [
    "from sklearn.svm import SVC\n",
    "svclassifier = SVC(kernel='linear')\n",
    "svclassifier.fit(X_train, Y_train)"
   ]
  },
  {
   "cell_type": "code",
   "execution_count": 38,
   "id": "4d2cb97a-b481-4267-843e-a12d0933b40f",
   "metadata": {},
   "outputs": [],
   "source": [
    "y_pred = svclassifier.predict(X_test)"
   ]
  },
  {
   "cell_type": "code",
   "execution_count": 39,
   "id": "506a72d5-af84-404c-811e-12c8cbc0c735",
   "metadata": {},
   "outputs": [
    {
     "name": "stdout",
     "output_type": "stream",
     "text": [
      "[[ 329 1011]\n",
      " [ 136 4565]]\n",
      "              precision    recall  f1-score   support\n",
      "\n",
      "           0       0.71      0.25      0.36      1340\n",
      "           1       0.82      0.97      0.89      4701\n",
      "\n",
      "    accuracy                           0.81      6041\n",
      "   macro avg       0.76      0.61      0.63      6041\n",
      "weighted avg       0.79      0.81      0.77      6041\n",
      "\n"
     ]
    },
    {
     "data": {
      "text/plain": [
       "(0.17603476821192052, 0.19218672405230922)"
      ]
     },
     "execution_count": 39,
     "metadata": {},
     "output_type": "execute_result"
    }
   ],
   "source": [
    "print(confusion_matrix(Y_test,y_pred))\n",
    "print(classification_report(Y_test,y_pred))\n",
    "np.mean(Y_train != y_train_pred), np.mean(Y_test != y_test_pred)"
   ]
  },
  {
   "cell_type": "markdown",
   "id": "18617d39-52df-43b0-8ec5-0a7bd6ec86ca",
   "metadata": {},
   "source": [
    "<h2>Изменяем размеры выборки</h2>"
   ]
  },
  {
   "cell_type": "code",
   "execution_count": 41,
   "id": "d90f131a-1763-449c-b649-a71b3f45f910",
   "metadata": {},
   "outputs": [],
   "source": [
    "X = standartData.drop(['X2','X3','default payment next month'],axis = 1)\n",
    "Y = filteredData['default payment next month']"
   ]
  },
  {
   "cell_type": "code",
   "execution_count": 45,
   "id": "969fb2ad-eced-4604-91ce-287781230f52",
   "metadata": {},
   "outputs": [
    {
     "data": {
      "text/plain": [
       "(21140, 9061)"
      ]
     },
     "execution_count": 45,
     "metadata": {},
     "output_type": "execute_result"
    }
   ],
   "source": [
    "X_train, X_test, Y_train, Y_test = train_test_split(X, Y, test_size = 0.30, random_state = 42)\n",
    "\n",
    "N_train, _ = X_train.shape \n",
    "N_test,  _ = X_test.shape \n",
    "\n",
    "N_train, N_test"
   ]
  },
  {
   "cell_type": "code",
   "execution_count": 40,
   "id": "c6f0394d-f82e-4c2f-8de0-c07ccf1a79aa",
   "metadata": {},
   "outputs": [],
   "source": [
    "svclassifier = SVC(kernel='linear')\n",
    "svclassifier.fit(X_train, Y_train)\n",
    "y_pred = svclassifier.predict(X_test)"
   ]
  },
  {
   "cell_type": "code",
   "execution_count": 41,
   "id": "03f79e44-764f-48af-8feb-57cd4625b76e",
   "metadata": {},
   "outputs": [
    {
     "name": "stdout",
     "output_type": "stream",
     "text": [
      "[[ 329 1011]\n",
      " [ 136 4565]]\n",
      "              precision    recall  f1-score   support\n",
      "\n",
      "           0       0.71      0.25      0.36      1340\n",
      "           1       0.82      0.97      0.89      4701\n",
      "\n",
      "    accuracy                           0.81      6041\n",
      "   macro avg       0.76      0.61      0.63      6041\n",
      "weighted avg       0.79      0.81      0.77      6041\n",
      "\n"
     ]
    },
    {
     "data": {
      "text/plain": [
       "(0.17603476821192052, 0.19218672405230922)"
      ]
     },
     "execution_count": 41,
     "metadata": {},
     "output_type": "execute_result"
    }
   ],
   "source": [
    "print(confusion_matrix(Y_test,y_pred))\n",
    "print(classification_report(Y_test,y_pred))\n",
    "np.mean(Y_train != y_train_pred), np.mean(Y_test != y_test_pred)"
   ]
  },
  {
   "cell_type": "markdown",
   "id": "85deedc3-3523-4041-94c8-353fba0823d8",
   "metadata": {},
   "source": [
    "<h2>Сбалансируем классы между собой и проведем еще несколько обучений KNN и SVM методами</h2> "
   ]
  },
  {
   "cell_type": "code",
   "execution_count": 42,
   "id": "0351015a-16e3-4dbf-a728-7b8b1508092f",
   "metadata": {},
   "outputs": [
    {
     "data": {
      "image/png": "[encoded data removed]",
      "text/plain": [
       "<Figure size 432x288 with 1 Axes>"
      ]
     },
     "metadata": {
      "needs_background": "light"
     },
     "output_type": "display_data"
    }
   ],
   "source": [
    "sns.countplot(x = 'default payment next month', data = filteredData)\n",
    "pass"
   ]
  },
  {
   "cell_type": "code",
   "execution_count": 43,
   "id": "f610d74e-3ad5-4442-97b4-3f0af5d1dc36",
   "metadata": {},
   "outputs": [],
   "source": [
    "zeros = filteredData[filteredData['default payment next month'] == 0]\n",
    "ones =  filteredData[filteredData['default payment next month'] == 1]\n",
    "size = zeros['default payment next month'].value_counts()"
   ]
  },
  {
   "cell_type": "code",
   "execution_count": 44,
   "id": "fe28e44f-e72b-4375-afd9-24160ea18599",
   "metadata": {},
   "outputs": [],
   "source": [
    "ones = ones.sample(size[0])"
   ]
  },
  {
   "cell_type": "code",
   "execution_count": 45,
   "id": "e286b84f-0910-4098-a225-93978e76fbb8",
   "metadata": {},
   "outputs": [
    {
     "data": {
      "text/html": [
       "<div>\n",
       "<style scoped>\n",
       "    .dataframe tbody tr th:only-of-type {\n",
       "        vertical-align: middle;\n",
       "    }\n",
       "\n",
       "    .dataframe tbody tr th {\n",
       "        vertical-align: top;\n",
       "    }\n",
       "\n",
       "    .dataframe thead th {\n",
       "        text-align: right;\n",
       "    }\n",
       "</style>\n",
       "<table border=\"1\" class=\"dataframe\">\n",
       "  <thead>\n",
       "    <tr style=\"text-align: right;\">\n",
       "      <th></th>\n",
       "      <th>ID</th>\n",
       "      <th>LIMIT_BAL</th>\n",
       "      <th>MARRIAGE</th>\n",
       "      <th>AGE</th>\n",
       "      <th>PAY_0</th>\n",
       "      <th>PAY_2</th>\n",
       "      <th>PAY_3</th>\n",
       "      <th>PAY_4</th>\n",
       "      <th>PAY_5</th>\n",
       "      <th>PAY_6</th>\n",
       "      <th>...</th>\n",
       "      <th>PAY_AMT6</th>\n",
       "      <th>default payment next month</th>\n",
       "      <th>X3</th>\n",
       "      <th>graduate school</th>\n",
       "      <th>high school</th>\n",
       "      <th>other</th>\n",
       "      <th>university</th>\n",
       "      <th>X2</th>\n",
       "      <th>female</th>\n",
       "      <th>male</th>\n",
       "    </tr>\n",
       "  </thead>\n",
       "  <tbody>\n",
       "    <tr>\n",
       "      <th>0</th>\n",
       "      <td>1</td>\n",
       "      <td>20000</td>\n",
       "      <td>1</td>\n",
       "      <td>24</td>\n",
       "      <td>2</td>\n",
       "      <td>2</td>\n",
       "      <td>-1</td>\n",
       "      <td>-1</td>\n",
       "      <td>-2</td>\n",
       "      <td>-2</td>\n",
       "      <td>...</td>\n",
       "      <td>0</td>\n",
       "      <td>0</td>\n",
       "      <td>0</td>\n",
       "      <td>0</td>\n",
       "      <td>0</td>\n",
       "      <td>0</td>\n",
       "      <td>1</td>\n",
       "      <td>0</td>\n",
       "      <td>1</td>\n",
       "      <td>0</td>\n",
       "    </tr>\n",
       "    <tr>\n",
       "      <th>1</th>\n",
       "      <td>2</td>\n",
       "      <td>120000</td>\n",
       "      <td>2</td>\n",
       "      <td>26</td>\n",
       "      <td>-1</td>\n",
       "      <td>2</td>\n",
       "      <td>0</td>\n",
       "      <td>0</td>\n",
       "      <td>0</td>\n",
       "      <td>2</td>\n",
       "      <td>...</td>\n",
       "      <td>2000</td>\n",
       "      <td>0</td>\n",
       "      <td>0</td>\n",
       "      <td>0</td>\n",
       "      <td>0</td>\n",
       "      <td>0</td>\n",
       "      <td>1</td>\n",
       "      <td>0</td>\n",
       "      <td>1</td>\n",
       "      <td>0</td>\n",
       "    </tr>\n",
       "    <tr>\n",
       "      <th>13</th>\n",
       "      <td>14</td>\n",
       "      <td>70000</td>\n",
       "      <td>2</td>\n",
       "      <td>30</td>\n",
       "      <td>1</td>\n",
       "      <td>2</td>\n",
       "      <td>2</td>\n",
       "      <td>0</td>\n",
       "      <td>0</td>\n",
       "      <td>2</td>\n",
       "      <td>...</td>\n",
       "      <td>0</td>\n",
       "      <td>0</td>\n",
       "      <td>0</td>\n",
       "      <td>0</td>\n",
       "      <td>0</td>\n",
       "      <td>0</td>\n",
       "      <td>1</td>\n",
       "      <td>0</td>\n",
       "      <td>0</td>\n",
       "      <td>1</td>\n",
       "    </tr>\n",
       "    <tr>\n",
       "      <th>16</th>\n",
       "      <td>17</td>\n",
       "      <td>20000</td>\n",
       "      <td>2</td>\n",
       "      <td>24</td>\n",
       "      <td>0</td>\n",
       "      <td>0</td>\n",
       "      <td>2</td>\n",
       "      <td>2</td>\n",
       "      <td>2</td>\n",
       "      <td>2</td>\n",
       "      <td>...</td>\n",
       "      <td>0</td>\n",
       "      <td>0</td>\n",
       "      <td>0</td>\n",
       "      <td>1</td>\n",
       "      <td>0</td>\n",
       "      <td>0</td>\n",
       "      <td>0</td>\n",
       "      <td>0</td>\n",
       "      <td>0</td>\n",
       "      <td>1</td>\n",
       "    </tr>\n",
       "    <tr>\n",
       "      <th>21</th>\n",
       "      <td>22</td>\n",
       "      <td>120000</td>\n",
       "      <td>1</td>\n",
       "      <td>39</td>\n",
       "      <td>-1</td>\n",
       "      <td>-1</td>\n",
       "      <td>-1</td>\n",
       "      <td>-1</td>\n",
       "      <td>-1</td>\n",
       "      <td>-1</td>\n",
       "      <td>...</td>\n",
       "      <td>0</td>\n",
       "      <td>0</td>\n",
       "      <td>0</td>\n",
       "      <td>0</td>\n",
       "      <td>0</td>\n",
       "      <td>0</td>\n",
       "      <td>1</td>\n",
       "      <td>0</td>\n",
       "      <td>1</td>\n",
       "      <td>0</td>\n",
       "    </tr>\n",
       "    <tr>\n",
       "      <th>...</th>\n",
       "      <td>...</td>\n",
       "      <td>...</td>\n",
       "      <td>...</td>\n",
       "      <td>...</td>\n",
       "      <td>...</td>\n",
       "      <td>...</td>\n",
       "      <td>...</td>\n",
       "      <td>...</td>\n",
       "      <td>...</td>\n",
       "      <td>...</td>\n",
       "      <td>...</td>\n",
       "      <td>...</td>\n",
       "      <td>...</td>\n",
       "      <td>...</td>\n",
       "      <td>...</td>\n",
       "      <td>...</td>\n",
       "      <td>...</td>\n",
       "      <td>...</td>\n",
       "      <td>...</td>\n",
       "      <td>...</td>\n",
       "      <td>...</td>\n",
       "    </tr>\n",
       "    <tr>\n",
       "      <th>27526</th>\n",
       "      <td>27324</td>\n",
       "      <td>50000</td>\n",
       "      <td>2</td>\n",
       "      <td>44</td>\n",
       "      <td>0</td>\n",
       "      <td>0</td>\n",
       "      <td>0</td>\n",
       "      <td>2</td>\n",
       "      <td>0</td>\n",
       "      <td>0</td>\n",
       "      <td>...</td>\n",
       "      <td>1000</td>\n",
       "      <td>1</td>\n",
       "      <td>0</td>\n",
       "      <td>0</td>\n",
       "      <td>1</td>\n",
       "      <td>0</td>\n",
       "      <td>0</td>\n",
       "      <td>0</td>\n",
       "      <td>0</td>\n",
       "      <td>1</td>\n",
       "    </tr>\n",
       "    <tr>\n",
       "      <th>11458</th>\n",
       "      <td>11256</td>\n",
       "      <td>240000</td>\n",
       "      <td>1</td>\n",
       "      <td>44</td>\n",
       "      <td>0</td>\n",
       "      <td>0</td>\n",
       "      <td>0</td>\n",
       "      <td>0</td>\n",
       "      <td>0</td>\n",
       "      <td>0</td>\n",
       "      <td>...</td>\n",
       "      <td>1000</td>\n",
       "      <td>1</td>\n",
       "      <td>0</td>\n",
       "      <td>0</td>\n",
       "      <td>0</td>\n",
       "      <td>0</td>\n",
       "      <td>1</td>\n",
       "      <td>0</td>\n",
       "      <td>0</td>\n",
       "      <td>1</td>\n",
       "    </tr>\n",
       "    <tr>\n",
       "      <th>28477</th>\n",
       "      <td>28275</td>\n",
       "      <td>430000</td>\n",
       "      <td>1</td>\n",
       "      <td>42</td>\n",
       "      <td>0</td>\n",
       "      <td>0</td>\n",
       "      <td>0</td>\n",
       "      <td>0</td>\n",
       "      <td>0</td>\n",
       "      <td>0</td>\n",
       "      <td>...</td>\n",
       "      <td>3500</td>\n",
       "      <td>1</td>\n",
       "      <td>0</td>\n",
       "      <td>0</td>\n",
       "      <td>0</td>\n",
       "      <td>0</td>\n",
       "      <td>1</td>\n",
       "      <td>0</td>\n",
       "      <td>1</td>\n",
       "      <td>0</td>\n",
       "    </tr>\n",
       "    <tr>\n",
       "      <th>26056</th>\n",
       "      <td>25854</td>\n",
       "      <td>200000</td>\n",
       "      <td>2</td>\n",
       "      <td>37</td>\n",
       "      <td>-1</td>\n",
       "      <td>-1</td>\n",
       "      <td>-1</td>\n",
       "      <td>-1</td>\n",
       "      <td>0</td>\n",
       "      <td>-1</td>\n",
       "      <td>...</td>\n",
       "      <td>3603</td>\n",
       "      <td>1</td>\n",
       "      <td>0</td>\n",
       "      <td>0</td>\n",
       "      <td>0</td>\n",
       "      <td>0</td>\n",
       "      <td>1</td>\n",
       "      <td>0</td>\n",
       "      <td>1</td>\n",
       "      <td>0</td>\n",
       "    </tr>\n",
       "    <tr>\n",
       "      <th>26831</th>\n",
       "      <td>26629</td>\n",
       "      <td>50000</td>\n",
       "      <td>2</td>\n",
       "      <td>26</td>\n",
       "      <td>0</td>\n",
       "      <td>0</td>\n",
       "      <td>0</td>\n",
       "      <td>0</td>\n",
       "      <td>0</td>\n",
       "      <td>0</td>\n",
       "      <td>...</td>\n",
       "      <td>2300</td>\n",
       "      <td>1</td>\n",
       "      <td>0</td>\n",
       "      <td>0</td>\n",
       "      <td>1</td>\n",
       "      <td>0</td>\n",
       "      <td>0</td>\n",
       "      <td>0</td>\n",
       "      <td>0</td>\n",
       "      <td>1</td>\n",
       "    </tr>\n",
       "  </tbody>\n",
       "</table>\n",
       "<p>13364 rows × 31 columns</p>\n",
       "</div>"
      ],
      "text/plain": [
       "          ID  LIMIT_BAL  MARRIAGE  AGE  PAY_0  PAY_2  PAY_3  PAY_4  PAY_5  \\\n",
       "0          1      20000         1   24      2      2     -1     -1     -2   \n",
       "1          2     120000         2   26     -1      2      0      0      0   \n",
       "13        14      70000         2   30      1      2      2      0      0   \n",
       "16        17      20000         2   24      0      0      2      2      2   \n",
       "21        22     120000         1   39     -1     -1     -1     -1     -1   \n",
       "...      ...        ...       ...  ...    ...    ...    ...    ...    ...   \n",
       "27526  27324      50000         2   44      0      0      0      2      0   \n",
       "11458  11256     240000         1   44      0      0      0      0      0   \n",
       "28477  28275     430000         1   42      0      0      0      0      0   \n",
       "26056  25854     200000         2   37     -1     -1     -1     -1      0   \n",
       "26831  26629      50000         2   26      0      0      0      0      0   \n",
       "\n",
       "       PAY_6  ...  PAY_AMT6  default payment next month  X3  graduate school  \\\n",
       "0         -2  ...         0                           0   0                0   \n",
       "1          2  ...      2000                           0   0                0   \n",
       "13         2  ...         0                           0   0                0   \n",
       "16         2  ...         0                           0   0                1   \n",
       "21        -1  ...         0                           0   0                0   \n",
       "...      ...  ...       ...                         ...  ..              ...   \n",
       "27526      0  ...      1000                           1   0                0   \n",
       "11458      0  ...      1000                           1   0                0   \n",
       "28477      0  ...      3500                           1   0                0   \n",
       "26056     -1  ...      3603                           1   0                0   \n",
       "26831      0  ...      2300                           1   0                0   \n",
       "\n",
       "       high school  other  university  X2  female  male  \n",
       "0                0      0           1   0       1     0  \n",
       "1                0      0           1   0       1     0  \n",
       "13               0      0           1   0       0     1  \n",
       "16               0      0           0   0       0     1  \n",
       "21               0      0           1   0       1     0  \n",
       "...            ...    ...         ...  ..     ...   ...  \n",
       "27526            1      0           0   0       0     1  \n",
       "11458            0      0           1   0       0     1  \n",
       "28477            0      0           1   0       1     0  \n",
       "26056            0      0           1   0       1     0  \n",
       "26831            1      0           0   0       0     1  \n",
       "\n",
       "[13364 rows x 31 columns]"
      ]
     },
     "execution_count": 45,
     "metadata": {},
     "output_type": "execute_result"
    }
   ],
   "source": [
    "cutting_data = pd.concat([zeros,ones])\n",
    "cutting_data"
   ]
  },
  {
   "cell_type": "code",
   "execution_count": 46,
   "id": "2d41b14a-464e-47ba-8c4d-ca404efe17cd",
   "metadata": {},
   "outputs": [
    {
     "data": {
      "image/png": "[encoded data removed]",
      "text/plain": [
       "<Figure size 432x288 with 1 Axes>"
      ]
     },
     "metadata": {
      "needs_background": "light"
     },
     "output_type": "display_data"
    }
   ],
   "source": [
    "sns.countplot(x = 'default payment next month', data = cutting_data)\n",
    "pass"
   ]
  },
  {
   "cell_type": "code",
   "execution_count": 47,
   "id": "4c5cfd22-931f-4f3b-8656-79f37b4e4b5c",
   "metadata": {},
   "outputs": [
    {
     "name": "stdout",
     "output_type": "stream",
     "text": [
      "<class 'pandas.core.frame.DataFrame'>\n",
      "Int64Index: 30201 entries, 0 to 30202\n",
      "Data columns (total 31 columns):\n",
      " #   Column                      Non-Null Count  Dtype\n",
      "---  ------                      --------------  -----\n",
      " 0   ID                          30201 non-null  int64\n",
      " 1   LIMIT_BAL                   30201 non-null  int64\n",
      " 2   MARRIAGE                    30201 non-null  int64\n",
      " 3   AGE                         30201 non-null  int64\n",
      " 4   PAY_0                       30201 non-null  int64\n",
      " 5   PAY_2                       30201 non-null  int64\n",
      " 6   PAY_3                       30201 non-null  int64\n",
      " 7   PAY_4                       30201 non-null  int64\n",
      " 8   PAY_5                       30201 non-null  int64\n",
      " 9   PAY_6                       30201 non-null  int64\n",
      " 10  BILL_AMT1                   30201 non-null  int64\n",
      " 11  BILL_AMT2                   30201 non-null  int64\n",
      " 12  BILL_AMT3                   30201 non-null  int64\n",
      " 13  BILL_AMT4                   30201 non-null  int64\n",
      " 14  BILL_AMT5                   30201 non-null  int64\n",
      " 15  BILL_AMT6                   30201 non-null  int64\n",
      " 16  PAY_AMT1                    30201 non-null  int64\n",
      " 17  PAY_AMT2                    30201 non-null  int64\n",
      " 18  PAY_AMT3                    30201 non-null  int64\n",
      " 19  PAY_AMT4                    30201 non-null  int64\n",
      " 20  PAY_AMT5                    30201 non-null  int64\n",
      " 21  PAY_AMT6                    30201 non-null  int64\n",
      " 22  default payment next month  30201 non-null  int64\n",
      " 23  X3                          30201 non-null  uint8\n",
      " 24  graduate school             30201 non-null  uint8\n",
      " 25  high school                 30201 non-null  uint8\n",
      " 26  other                       30201 non-null  uint8\n",
      " 27  university                  30201 non-null  uint8\n",
      " 28  X2                          30201 non-null  uint8\n",
      " 29  female                      30201 non-null  uint8\n",
      " 30  male                        30201 non-null  uint8\n",
      "dtypes: int64(23), uint8(8)\n",
      "memory usage: 6.8 MB\n"
     ]
    }
   ],
   "source": [
    "filteredData.info()"
   ]
  },
  {
   "cell_type": "markdown",
   "id": "ef0fbb72-e985-4a47-b2fe-ceb4d02c4411",
   "metadata": {},
   "source": [
    "<h2>Используем сбалансированные данные и все те же классификаторы</h2>"
   ]
  },
  {
   "cell_type": "code",
   "execution_count": 48,
   "id": "64750434-f0b8-496f-8875-6fd64b0896ce",
   "metadata": {},
   "outputs": [],
   "source": [
    "standartData = (cutting_data - cutting_data.mean(axis = 0))/cutting_data.std(axis = 0)"
   ]
  },
  {
   "cell_type": "code",
   "execution_count": 49,
   "id": "6826e438-57bd-41e9-bd62-e5b12431a22d",
   "metadata": {},
   "outputs": [],
   "source": [
    "X = standartData.drop(['X2','X3','default payment next month'],axis = 1)\n",
    "Y = cutting_data['default payment next month']"
   ]
  },
  {
   "cell_type": "code",
   "execution_count": 50,
   "id": "04f59a36-2034-429b-898e-0bd34792b261",
   "metadata": {},
   "outputs": [
    {
     "data": {
      "text/plain": [
       "(10691, 2673)"
      ]
     },
     "execution_count": 50,
     "metadata": {},
     "output_type": "execute_result"
    }
   ],
   "source": [
    "X_train, X_test, Y_train, Y_test = train_test_split(X, Y, test_size = 0.20, random_state = 42)\n",
    "\n",
    "N_train, _ = X_train.shape \n",
    "N_test,  _ = X_test.shape \n",
    "\n",
    "N_train, N_test"
   ]
  },
  {
   "cell_type": "code",
   "execution_count": 51,
   "id": "12d984aa-a076-4792-9be4-5422034b9520",
   "metadata": {},
   "outputs": [
    {
     "name": "stdout",
     "output_type": "stream",
     "text": [
      "[[865 476]\n",
      " [409 923]]\n",
      "              precision    recall  f1-score   support\n",
      "\n",
      "           0       0.68      0.65      0.66      1341\n",
      "           1       0.66      0.69      0.68      1332\n",
      "\n",
      "    accuracy                           0.67      2673\n",
      "   macro avg       0.67      0.67      0.67      2673\n",
      "weighted avg       0.67      0.67      0.67      2673\n",
      "\n"
     ]
    },
    {
     "data": {
      "text/plain": [
       "(0.2348704517818726, 0.33108866442199775)"
      ]
     },
     "execution_count": 51,
     "metadata": {},
     "output_type": "execute_result"
    }
   ],
   "source": [
    "knn = KNeighborsClassifier()\n",
    "knn.set_params(n_neighbors=5)\n",
    "knn.fit(X_train.values, Y_train)\n",
    "y_train_pred = knn.predict(X_train.values)\n",
    "y_test_pred = knn.predict(X_test.values)\n",
    "print(confusion_matrix(Y_test,y_test_pred))\n",
    "print(classification_report(Y_test,y_test_pred))\n",
    "np.mean(Y_train != y_train_pred), np.mean(Y_test != y_test_pred)"
   ]
  },
  {
   "cell_type": "code",
   "execution_count": 52,
   "id": "0ccb8ce2-34e1-4ceb-9581-9a7f30c476d3",
   "metadata": {},
   "outputs": [
    {
     "name": "stdout",
     "output_type": "stream",
     "text": [
      "[[874 467]\n",
      " [358 974]]\n",
      "              precision    recall  f1-score   support\n",
      "\n",
      "           0       0.71      0.65      0.68      1341\n",
      "           1       0.68      0.73      0.70      1332\n",
      "\n",
      "    accuracy                           0.69      2673\n",
      "   macro avg       0.69      0.69      0.69      2673\n",
      "weighted avg       0.69      0.69      0.69      2673\n",
      "\n"
     ]
    },
    {
     "data": {
      "text/plain": [
       "(0.25236179964456085, 0.30864197530864196)"
      ]
     },
     "execution_count": 52,
     "metadata": {},
     "output_type": "execute_result"
    }
   ],
   "source": [
    "knn = KNeighborsClassifier()\n",
    "knn.set_params(n_neighbors=7)\n",
    "knn.fit(X_train.values, Y_train)\n",
    "y_train_pred = knn.predict(X_train.values)\n",
    "y_test_pred = knn.predict(X_test.values)\n",
    "print(confusion_matrix(Y_test,y_test_pred))\n",
    "print(classification_report(Y_test,y_test_pred))\n",
    "np.mean(Y_train != y_train_pred), np.mean(Y_test != y_test_pred)"
   ]
  },
  {
   "cell_type": "code",
   "execution_count": 53,
   "id": "c8f44454-1206-4c9f-9544-03b632acc577",
   "metadata": {},
   "outputs": [
    {
     "name": "stdout",
     "output_type": "stream",
     "text": [
      "[[881 460]\n",
      " [409 923]]\n",
      "              precision    recall  f1-score   support\n",
      "\n",
      "           0       0.68      0.66      0.67      1341\n",
      "           1       0.67      0.69      0.68      1332\n",
      "\n",
      "    accuracy                           0.67      2673\n",
      "   macro avg       0.68      0.67      0.67      2673\n",
      "weighted avg       0.68      0.67      0.67      2673\n",
      "\n"
     ]
    },
    {
     "data": {
      "text/plain": [
       "(0.27677485735665514, 0.32510288065843623)"
      ]
     },
     "execution_count": 53,
     "metadata": {},
     "output_type": "execute_result"
    }
   ],
   "source": [
    "knn = KNeighborsClassifier()\n",
    "knn.set_params(n_neighbors=12)\n",
    "knn.fit(X_train.values, Y_train)\n",
    "y_train_pred = knn.predict(X_train.values)\n",
    "y_test_pred = knn.predict(X_test.values)\n",
    "print(confusion_matrix(Y_test,y_test_pred))\n",
    "print(classification_report(Y_test,y_test_pred))\n",
    "np.mean(Y_train != y_train_pred), np.mean(Y_test != y_test_pred)"
   ]
  },
  {
   "cell_type": "code",
   "execution_count": 54,
   "id": "7104b671-62c6-4919-871e-182ca860d6c3",
   "metadata": {
    "tags": []
   },
   "outputs": [],
   "source": [
    "X = standartData.drop(['X2','X3','default payment next month'],axis = 1)\n",
    "Y = cutting_data['default payment next month']"
   ]
  },
  {
   "cell_type": "code",
   "execution_count": 55,
   "id": "b701aa0c-fb71-494a-9005-0dd4633250df",
   "metadata": {},
   "outputs": [
    {
     "data": {
      "text/plain": [
       "(10691, 2673)"
      ]
     },
     "execution_count": 55,
     "metadata": {},
     "output_type": "execute_result"
    }
   ],
   "source": [
    "X_train, X_test, Y_train, Y_test = train_test_split(X, Y, test_size = 0.20, random_state = 42)\n",
    "\n",
    "N_train, _ = X_train.shape \n",
    "N_test,  _ = X_test.shape \n",
    "\n",
    "N_train, N_test"
   ]
  },
  {
   "cell_type": "code",
   "execution_count": 56,
   "id": "6591762b-c9a8-4f64-b32c-3fe56af42a46",
   "metadata": {},
   "outputs": [],
   "source": [
    "svclassifier = SVC(kernel='linear')\n",
    "svclassifier.fit(X_train, Y_train)\n",
    "y_pred = svclassifier.predict(X_test)"
   ]
  },
  {
   "cell_type": "code",
   "execution_count": 57,
   "id": "fd361ddb-9e90-4429-be1a-8e3004ad5649",
   "metadata": {},
   "outputs": [
    {
     "name": "stdout",
     "output_type": "stream",
     "text": [
      "[[ 755  586]\n",
      " [ 259 1073]]\n",
      "              precision    recall  f1-score   support\n",
      "\n",
      "           0       0.74      0.56      0.64      1341\n",
      "           1       0.65      0.81      0.72      1332\n",
      "\n",
      "    accuracy                           0.68      2673\n",
      "   macro avg       0.70      0.68      0.68      2673\n",
      "weighted avg       0.70      0.68      0.68      2673\n",
      "\n"
     ]
    },
    {
     "data": {
      "text/plain": [
       "(0.27677485735665514, 0.32510288065843623)"
      ]
     },
     "execution_count": 57,
     "metadata": {},
     "output_type": "execute_result"
    }
   ],
   "source": [
    "print(confusion_matrix(Y_test,y_pred))\n",
    "print(classification_report(Y_test,y_pred))\n",
    "np.mean(Y_train != y_train_pred), np.mean(Y_test != y_test_pred)"
   ]
  },
  {
   "cell_type": "code",
   "execution_count": null,
   "id": "714d9964-a97b-447d-9a5e-06517cf3f0ae",
   "metadata": {},
   "outputs": [],
   "source": []
  }
 ],
 "metadata": {
  "kernelspec": {
   "display_name": "Python 3 (ipykernel)",
   "language": "python",
   "name": "python3"
  },
  "language_info": {
   "codemirror_mode": {
    "name": "ipython",
    "version": 3
   },
   "file_extension": ".py",
   "mimetype": "text/x-python",
   "name": "python",
   "nbconvert_exporter": "python",
   "pygments_lexer": "ipython3",
   "version": "3.9.7"
  }
 },
 "nbformat": 4,
 "nbformat_minor": 5
}
