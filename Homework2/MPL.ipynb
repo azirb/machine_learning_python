{
 "cells": [
  {
   "cell_type": "code",
   "execution_count": 1,
   "id": "10dd0bcb-2215-428e-b295-ca599c73804a",
   "metadata": {},
   "outputs": [],
   "source": [
    "import numpy as np\n",
    "import matplotlib.pyplot as plt\n",
    "import pandas as pd\n",
    "import seaborn as sns\n",
    "from sklearn.model_selection import train_test_split\n",
    "from sklearn.neural_network import MLPClassifier\n",
    "from sklearn.metrics import accuracy_score"
   ]
  },
  {
   "cell_type": "code",
   "execution_count": 2,
   "id": "e92fa0b3-55e8-4769-a024-742f7074eba7",
   "metadata": {},
   "outputs": [],
   "source": [
    "url=\"./Loan_Defaulter.csv\""
   ]
  },
  {
   "cell_type": "code",
   "execution_count": 3,
   "id": "87f45036-903d-4964-8ebe-2e03ed29986f",
   "metadata": {},
   "outputs": [],
   "source": [
    "data = pd.read_csv(url, skiprows=[0])"
   ]
  },
  {
   "cell_type": "code",
   "execution_count": 4,
   "id": "42dc9f31-4f13-4fe9-ac1a-419c5706c613",
   "metadata": {},
   "outputs": [
    {
     "data": {
      "text/plain": [
       "(30203, 25)"
      ]
     },
     "execution_count": 4,
     "metadata": {},
     "output_type": "execute_result"
    }
   ],
   "source": [
    "data.shape"
   ]
  },
  {
   "cell_type": "markdown",
   "id": "95c1f490-f096-4568-833c-4f9a5cd9369e",
   "metadata": {},
   "source": [
    "<h1>Задаем категориальные признаки</h1>"
   ]
  },
  {
   "cell_type": "code",
   "execution_count": 5,
   "id": "2bbbf8b8-d3c1-45e0-bca8-bdd9df9287f4",
   "metadata": {},
   "outputs": [],
   "source": [
    "data['EDUCATION'] = data['EDUCATION'].astype('category')\n",
    "data['SEX'] = data['SEX'].astype('category')\n",
    "data['default payment next month'] = data['default payment next month'].astype('category')"
   ]
  },
  {
   "cell_type": "markdown",
   "id": "6c13c2b3-7912-433d-9e9b-1800df6cc904",
   "metadata": {},
   "source": [
    "<h1>Подготавливаем данные</h1>"
   ]
  },
  {
   "cell_type": "code",
   "execution_count": 6,
   "id": "a1ae6de5-6672-421f-bc65-1d6ea9dfc45e",
   "metadata": {},
   "outputs": [],
   "source": [
    "dropRows = data[\n",
    "    ((data['SEX'] == 'X2') | (data['SEX'] == 'SEX') | (data['default payment next month'] == 'Y') | (data['default payment next month'] == 'default payment next month'))\n",
    "].index\n",
    "filteredData = data.drop(dropRows)"
   ]
  },
  {
   "cell_type": "code",
   "execution_count": 7,
   "id": "e2c01fc1-d7df-4cc3-8955-bfacc21695bf",
   "metadata": {},
   "outputs": [],
   "source": [
    "filteredData['default payment next month'] = pd.factorize(filteredData['default payment next month'])[0]\n",
    "educationalDummies = pd.get_dummies(filteredData['EDUCATION'])\n",
    "sexStatusDummies =  pd.get_dummies(filteredData['SEX'])"
   ]
  },
  {
   "cell_type": "code",
   "execution_count": 8,
   "id": "9b6d05ce-597f-44fd-ba3f-87d2cb8bd34c",
   "metadata": {},
   "outputs": [],
   "source": [
    "filteredData = pd.concat((filteredData, educationalDummies), axis=1)\n",
    "filteredData = pd.concat((filteredData, sexStatusDummies), axis=1)\n",
    "filteredData = filteredData.drop(['EDUCATION'], axis=1)\n",
    "filteredData = filteredData.drop(['SEX'], axis=1)"
   ]
  },
  {
   "cell_type": "code",
   "execution_count": 9,
   "id": "1eecb185-00a7-4c3f-bdb6-709dd7ae2ac8",
   "metadata": {},
   "outputs": [],
   "source": [
    "for i in filteredData.columns:\n",
    "    if filteredData[i].dtype == 'object':\n",
    "        filteredData[i] = filteredData[i].astype('int64')"
   ]
  },
  {
   "cell_type": "code",
   "execution_count": 10,
   "id": "fbee77f6-7ac8-4c39-bbf5-0b2f45c7fa88",
   "metadata": {},
   "outputs": [
    {
     "name": "stdout",
     "output_type": "stream",
     "text": [
      "<class 'pandas.core.frame.DataFrame'>\n",
      "Int64Index: 30201 entries, 0 to 30202\n",
      "Data columns (total 31 columns):\n",
      " #   Column                      Non-Null Count  Dtype\n",
      "---  ------                      --------------  -----\n",
      " 0   ID                          30201 non-null  int64\n",
      " 1   LIMIT_BAL                   30201 non-null  int64\n",
      " 2   MARRIAGE                    30201 non-null  int64\n",
      " 3   AGE                         30201 non-null  int64\n",
      " 4   PAY_0                       30201 non-null  int64\n",
      " 5   PAY_2                       30201 non-null  int64\n",
      " 6   PAY_3                       30201 non-null  int64\n",
      " 7   PAY_4                       30201 non-null  int64\n",
      " 8   PAY_5                       30201 non-null  int64\n",
      " 9   PAY_6                       30201 non-null  int64\n",
      " 10  BILL_AMT1                   30201 non-null  int64\n",
      " 11  BILL_AMT2                   30201 non-null  int64\n",
      " 12  BILL_AMT3                   30201 non-null  int64\n",
      " 13  BILL_AMT4                   30201 non-null  int64\n",
      " 14  BILL_AMT5                   30201 non-null  int64\n",
      " 15  BILL_AMT6                   30201 non-null  int64\n",
      " 16  PAY_AMT1                    30201 non-null  int64\n",
      " 17  PAY_AMT2                    30201 non-null  int64\n",
      " 18  PAY_AMT3                    30201 non-null  int64\n",
      " 19  PAY_AMT4                    30201 non-null  int64\n",
      " 20  PAY_AMT5                    30201 non-null  int64\n",
      " 21  PAY_AMT6                    30201 non-null  int64\n",
      " 22  default payment next month  30201 non-null  int64\n",
      " 23  X3                          30201 non-null  uint8\n",
      " 24  graduate school             30201 non-null  uint8\n",
      " 25  high school                 30201 non-null  uint8\n",
      " 26  other                       30201 non-null  uint8\n",
      " 27  university                  30201 non-null  uint8\n",
      " 28  X2                          30201 non-null  uint8\n",
      " 29  female                      30201 non-null  uint8\n",
      " 30  male                        30201 non-null  uint8\n",
      "dtypes: int64(23), uint8(8)\n",
      "memory usage: 5.8 MB\n"
     ]
    }
   ],
   "source": [
    "filteredData.info()"
   ]
  },
  {
   "cell_type": "markdown",
   "id": "0884ae33-2e36-4a1d-a646-a7b95597a0ef",
   "metadata": {},
   "source": [
    "<h1>Нормализация признаков</h1>"
   ]
  },
  {
   "cell_type": "code",
   "execution_count": 11,
   "id": "f57541f5-80c0-4cbf-afbf-84100cde84f1",
   "metadata": {},
   "outputs": [],
   "source": [
    "standartData = (filteredData - filteredData.mean(axis = 0))/filteredData.std(axis = 0)"
   ]
  },
  {
   "cell_type": "code",
   "execution_count": 12,
   "id": "d4292000-55cd-49c7-91ca-3a8d766b1c7e",
   "metadata": {},
   "outputs": [
    {
     "data": {
      "text/html": [
       "<div>\n",
       "<style scoped>\n",
       "    .dataframe tbody tr th:only-of-type {\n",
       "        vertical-align: middle;\n",
       "    }\n",
       "\n",
       "    .dataframe tbody tr th {\n",
       "        vertical-align: top;\n",
       "    }\n",
       "\n",
       "    .dataframe thead th {\n",
       "        text-align: right;\n",
       "    }\n",
       "</style>\n",
       "<table border=\"1\" class=\"dataframe\">\n",
       "  <thead>\n",
       "    <tr style=\"text-align: right;\">\n",
       "      <th></th>\n",
       "      <th>ID</th>\n",
       "      <th>LIMIT_BAL</th>\n",
       "      <th>MARRIAGE</th>\n",
       "      <th>AGE</th>\n",
       "      <th>PAY_0</th>\n",
       "      <th>PAY_2</th>\n",
       "      <th>PAY_3</th>\n",
       "      <th>PAY_4</th>\n",
       "      <th>PAY_5</th>\n",
       "      <th>PAY_6</th>\n",
       "      <th>...</th>\n",
       "      <th>PAY_AMT6</th>\n",
       "      <th>default payment next month</th>\n",
       "      <th>X3</th>\n",
       "      <th>graduate school</th>\n",
       "      <th>high school</th>\n",
       "      <th>other</th>\n",
       "      <th>university</th>\n",
       "      <th>X2</th>\n",
       "      <th>female</th>\n",
       "      <th>male</th>\n",
       "    </tr>\n",
       "  </thead>\n",
       "  <tbody>\n",
       "  </tbody>\n",
       "</table>\n",
       "<p>0 rows × 31 columns</p>\n",
       "</div>"
      ],
      "text/plain": [
       "Empty DataFrame\n",
       "Columns: [ID, LIMIT_BAL, MARRIAGE, AGE, PAY_0, PAY_2, PAY_3, PAY_4, PAY_5, PAY_6, BILL_AMT1, BILL_AMT2, BILL_AMT3, BILL_AMT4, BILL_AMT5, BILL_AMT6, PAY_AMT1, PAY_AMT2, PAY_AMT3, PAY_AMT4, PAY_AMT5, PAY_AMT6, default payment next month, X3, graduate school, high school, other, university, X2, female, male]\n",
       "Index: []\n",
       "\n",
       "[0 rows x 31 columns]"
      ]
     },
     "execution_count": 12,
     "metadata": {},
     "output_type": "execute_result"
    }
   ],
   "source": [
    "standartData.dropna()      "
   ]
  },
  {
   "cell_type": "code",
   "execution_count": 13,
   "id": "182a95fa-097e-4477-9f21-f50c9132a75b",
   "metadata": {},
   "outputs": [
    {
     "name": "stdout",
     "output_type": "stream",
     "text": [
      "<class 'pandas.core.frame.DataFrame'>\n",
      "Int64Index: 30201 entries, 0 to 30202\n",
      "Data columns (total 31 columns):\n",
      " #   Column                      Non-Null Count  Dtype  \n",
      "---  ------                      --------------  -----  \n",
      " 0   ID                          30201 non-null  float64\n",
      " 1   LIMIT_BAL                   30201 non-null  float64\n",
      " 2   MARRIAGE                    30201 non-null  float64\n",
      " 3   AGE                         30201 non-null  float64\n",
      " 4   PAY_0                       30201 non-null  float64\n",
      " 5   PAY_2                       30201 non-null  float64\n",
      " 6   PAY_3                       30201 non-null  float64\n",
      " 7   PAY_4                       30201 non-null  float64\n",
      " 8   PAY_5                       30201 non-null  float64\n",
      " 9   PAY_6                       30201 non-null  float64\n",
      " 10  BILL_AMT1                   30201 non-null  float64\n",
      " 11  BILL_AMT2                   30201 non-null  float64\n",
      " 12  BILL_AMT3                   30201 non-null  float64\n",
      " 13  BILL_AMT4                   30201 non-null  float64\n",
      " 14  BILL_AMT5                   30201 non-null  float64\n",
      " 15  BILL_AMT6                   30201 non-null  float64\n",
      " 16  PAY_AMT1                    30201 non-null  float64\n",
      " 17  PAY_AMT2                    30201 non-null  float64\n",
      " 18  PAY_AMT3                    30201 non-null  float64\n",
      " 19  PAY_AMT4                    30201 non-null  float64\n",
      " 20  PAY_AMT5                    30201 non-null  float64\n",
      " 21  PAY_AMT6                    30201 non-null  float64\n",
      " 22  default payment next month  30201 non-null  float64\n",
      " 23  X3                          0 non-null      float64\n",
      " 24  graduate school             30201 non-null  float64\n",
      " 25  high school                 30201 non-null  float64\n",
      " 26  other                       30201 non-null  float64\n",
      " 27  university                  30201 non-null  float64\n",
      " 28  X2                          0 non-null      float64\n",
      " 29  female                      30201 non-null  float64\n",
      " 30  male                        30201 non-null  float64\n",
      "dtypes: float64(31)\n",
      "memory usage: 7.4 MB\n"
     ]
    }
   ],
   "source": [
    "standartData.info()"
   ]
  },
  {
   "cell_type": "markdown",
   "id": "a95122f0-7389-43ff-bdce-d25e0ef2204c",
   "metadata": {},
   "source": [
    "<h1>Разбиение на выборки</h1>"
   ]
  },
  {
   "cell_type": "code",
   "execution_count": 14,
   "id": "850cbbc4-b903-44bd-88ba-c8c009fb7f4b",
   "metadata": {},
   "outputs": [],
   "source": [
    "x = standartData.drop(['default payment next month','X3','X2'], axis = 1)\n",
    "y = filteredData['default payment next month']"
   ]
  },
  {
   "cell_type": "code",
   "execution_count": 15,
   "id": "da6f9461-09c3-4a3f-8ebf-5270b34e967c",
   "metadata": {},
   "outputs": [
    {
     "name": "stdout",
     "output_type": "stream",
     "text": [
      "Train:  19630\n",
      "Test:  10571\n"
     ]
    }
   ],
   "source": [
    "x_train, x_test, y_train, y_test = train_test_split(x, y, test_size = 0.35, random_state = 42)\n",
    "\n",
    "n_train, _ = x_train.shape \n",
    "n_test,  _ = x_test.shape \n",
    "\n",
    "print('Train: ',n_train)\n",
    "print('Test: ', n_test)"
   ]
  },
  {
   "cell_type": "markdown",
   "id": "ab0d6586-ea8d-4598-817f-541087476c45",
   "metadata": {},
   "source": [
    "<h1>Обучение</h1> "
   ]
  },
  {
   "cell_type": "code",
   "execution_count": 16,
   "id": "243d9c9e-3296-4638-b3e0-fb5943cb6c2a",
   "metadata": {},
   "outputs": [],
   "source": [
    "model = MLPClassifier(hidden_layer_sizes = (1,),solver = 'lbfgs', activation = 'logistic')\n",
    "model.fit(x_train,y_train)\n",
    "\n",
    "y_train_result = model.predict(x_train)\n",
    "y_test_result = model.predict(x_test)"
   ]
  },
  {
   "cell_type": "markdown",
   "id": "20da455c-4ee8-45ed-85ef-52ef16375874",
   "metadata": {},
   "source": [
    "<h2>1 слой</h2>"
   ]
  },
  {
   "cell_type": "code",
   "execution_count": 17,
   "id": "c4ae879a-436c-4808-88c3-0910b8ccea7a",
   "metadata": {},
   "outputs": [
    {
     "name": "stdout",
     "output_type": "stream",
     "text": [
      "Ошибка на обучающем датасете:  0.1795211411105451\n",
      "Ошибка на тестовом датасете:  0.1833317566928389\n"
     ]
    }
   ],
   "source": [
    "print(\"Ошибка на обучающем датасете: \", np.mean(y_train != y_train_result))\n",
    "print(\"Ошибка на тестовом датасете: \", np.mean(y_test  != y_test_result))"
   ]
  },
  {
   "cell_type": "markdown",
   "id": "286a829e-b7c6-4861-a5f9-66f6fffd6145",
   "metadata": {},
   "source": [
    "<h2>2 слоя</h2>"
   ]
  },
  {
   "cell_type": "code",
   "execution_count": 18,
   "id": "6590b2ba-c316-4cd0-afbc-ab5ffa47495b",
   "metadata": {},
   "outputs": [
    {
     "name": "stdout",
     "output_type": "stream",
     "text": [
      "Ошибка на обучающем датасете:  0.17890983188996434\n",
      "Ошибка на тестовом датасете:  0.18389934727083532\n"
     ]
    }
   ],
   "source": [
    "model = MLPClassifier(hidden_layer_sizes = (2,),solver = 'lbfgs', activation = 'logistic')\n",
    "model.fit(x_train,y_train)\n",
    "\n",
    "y_train_result = model.predict(x_train)\n",
    "y_test_result = model.predict(x_test)\n",
    "\n",
    "print(\"Ошибка на обучающем датасете: \", np.mean(y_train != y_train_result))\n",
    "print(\"Ошибка на тестовом датасете: \", np.mean(y_test  != y_test_result))"
   ]
  },
  {
   "cell_type": "markdown",
   "id": "312d13e8-8a1f-4967-8270-2458a0d389d1",
   "metadata": {},
   "source": [
    "<h2> Так как ошибки при 2 слоях меньше продолжим работать с 2 слоями</h2>"
   ]
  },
  {
   "cell_type": "code",
   "execution_count": 19,
   "id": "7c44fa2f-9d07-46a9-820f-5ebd0070fc2c",
   "metadata": {},
   "outputs": [
    {
     "data": {
      "image/png": "[encoded data removed]",
      "text/plain": [
       "<Figure size 432x288 with 1 Axes>"
      ]
     },
     "metadata": {
      "needs_background": "light"
     },
     "output_type": "display_data"
    }
   ],
   "source": [
    "alpha_arr = np.logspace(-3, 2, 21)\n",
    "test_err = []\n",
    "train_err = []\n",
    "\n",
    "for alpha in alpha_arr:\n",
    "    model = MLPClassifier(alpha = alpha, hidden_layer_sizes = (2,), \n",
    "                              solver = 'lbfgs', activation = 'logistic', max_iter=1000, random_state = 42)\n",
    "    model.fit(x_train, y_train)\n",
    "\n",
    "    y_train_result = model.predict(x_train)\n",
    "    y_test_result = model.predict(x_test)\n",
    "    \n",
    "    train_err.append(np.mean(y_train != y_train_result))\n",
    "    test_err.append(np.mean(y_test != y_test_result))\n",
    "\n",
    "plt.semilogx(alpha_arr, train_err, 'b-o', label = 'train')\n",
    "plt.semilogx(alpha_arr, test_err, 'r-o', label = 'test')\n",
    "plt.xlim([np.min(alpha_arr), np.max(alpha_arr)])\n",
    "plt.title('error vs. alpha')\n",
    "plt.xlabel('alpha')\n",
    "plt.ylabel('error')\n",
    "plt.legend()\n",
    "pass"
   ]
  },
  {
   "cell_type": "markdown",
   "id": "6c139fc1-0be1-4db3-8425-5ccfbfc6e725",
   "metadata": {},
   "source": [
    "<h1>Находим оптимальные параметры:</h1>"
   ]
  },
  {
   "cell_type": "markdown",
   "id": "2b04ed1f-5bf5-4823-87fb-20e3e07a8a0e",
   "metadata": {
    "tags": []
   },
   "source": [
    "<h2>Alpha </h2>"
   ]
  },
  {
   "cell_type": "code",
   "execution_count": 20,
   "id": "61d087c5-a1b7-43cd-b62e-e3d128719c34",
   "metadata": {},
   "outputs": [
    {
     "name": "stdout",
     "output_type": "stream",
     "text": [
      "alpha_opt =  0.005623413251903491\n"
     ]
    }
   ],
   "source": [
    "min_test_err = np.min(test_err)\n",
    "alpha_opt = alpha_arr[test_err == min_test_err]\n",
    "alpha_opt = alpha_opt[0]\n",
    "print(\"alpha_opt = \", alpha_opt)"
   ]
  },
  {
   "cell_type": "code",
   "execution_count": 21,
   "id": "48d96323-5bc7-400e-95ab-bc415002e7ca",
   "metadata": {},
   "outputs": [
    {
     "name": "stdout",
     "output_type": "stream",
     "text": [
      "Ошибка на обучающем датасете:  0.18074375955170657\n",
      "Ошибка на тестовом датасете:  0.18314255983350677\n"
     ]
    }
   ],
   "source": [
    "model = MLPClassifier(alpha = alpha_opt, hidden_layer_sizes = (2,),solver = 'lbfgs', activation = 'logistic')\n",
    "model.fit(x_train,y_train)\n",
    "\n",
    "y_train_result = model.predict(x_train)\n",
    "y_test_result = model.predict(x_test)\n",
    "\n",
    "print(\"Ошибка на обучающем датасете: \", np.mean(y_train != y_train_result))\n",
    "print(\"Ошибка на тестовом датасете: \", np.mean(y_test  != y_test_result))"
   ]
  },
  {
   "cell_type": "markdown",
   "id": "062ee634-275f-4832-9cfc-5215da1dbc11",
   "metadata": {
    "tags": []
   },
   "source": [
    "<h2>Количество нейронов</h2>"
   ]
  },
  {
   "cell_type": "code",
   "execution_count": 22,
   "id": "e3216096-c103-4aca-a621-d7e35aac6c96",
   "metadata": {},
   "outputs": [
    {
     "data": {
      "image/png": "[encoded data removed]",
      "text/plain": [
       "<Figure size 432x288 with 1 Axes>"
      ]
     },
     "metadata": {
      "needs_background": "light"
     },
     "output_type": "display_data"
    }
   ],
   "source": [
    "max_neuron = 15\n",
    "n_neuron = np.arange(1, max_neuron + 1, 1)\n",
    "test_err = []\n",
    "train_err = []\n",
    "\n",
    "for i in n_neuron:\n",
    "    model = MLPClassifier(alpha = alpha_opt, hidden_layer_sizes = (2, i), \n",
    "                              solver = 'lbfgs', activation = 'logistic', max_iter=1000, random_state = 42)\n",
    "    model.fit(x_train, y_train)\n",
    "\n",
    "    y_train_result = model.predict(x_train)\n",
    "    y_test_result = model.predict(x_test)\n",
    "    \n",
    "    train_err.append(np.mean(y_train != y_train_result))\n",
    "    test_err.append(np.mean(y_test != y_test_result))\n",
    "\n",
    "plt.plot(n_neuron, train_err, 'b-o', label = 'train')\n",
    "plt.plot(n_neuron, test_err, 'r-o', label = 'test')\n",
    "plt.xlim([np.min(n_neuron), np.max(n_neuron)])\n",
    "plt.grid(True)\n",
    "plt.title('error vs. n_neuron')\n",
    "plt.xlabel('n_neuron')\n",
    "plt.ylabel('error')\n",
    "plt.legend()\n",
    "plt.show()"
   ]
  },
  {
   "cell_type": "code",
   "execution_count": 23,
   "id": "4d4fe766-a9fc-4ee8-ae73-9100887897ff",
   "metadata": {},
   "outputs": [
    {
     "name": "stdout",
     "output_type": "stream",
     "text": [
      "n_neuron_opt =  2\n"
     ]
    }
   ],
   "source": [
    "min_test_err = np.min(test_err)\n",
    "n_neuron_opt = n_neuron[test_err == min_test_err]\n",
    "n_neuron_opt = n_neuron_opt[0]\n",
    "print(\"n_neuron_opt = \", n_neuron_opt)"
   ]
  },
  {
   "cell_type": "code",
   "execution_count": 24,
   "id": "32043c38-9542-42d6-88ab-1c944d920e4b",
   "metadata": {},
   "outputs": [
    {
     "name": "stdout",
     "output_type": "stream",
     "text": [
      "Ошибка на обучающем датасете:  0.1792154865002547\n",
      "Ошибка на тестовом датасете:  0.18002081165452655\n"
     ]
    }
   ],
   "source": [
    "model = MLPClassifier(alpha = alpha_opt, hidden_layer_sizes = (2, n_neuron_opt),\n",
    "                          solver = 'lbfgs', activation = 'logistic', max_iter=1000, random_state = 42)\n",
    "\n",
    "model.fit(x_train, y_train)\n",
    "\n",
    "y_train_result = model.predict(x_train)\n",
    "y_test_result = model.predict(x_test)\n",
    "print(\"Ошибка на обучающем датасете: \", np.mean(y_train != y_train_result))\n",
    "print(\"Ошибка на тестовом датасете: \", np.mean(y_test != y_test_result))"
   ]
  },
  {
   "cell_type": "markdown",
   "id": "7f440c1e-93cb-4a7a-a458-a2bb54b45cc2",
   "metadata": {
    "tags": []
   },
   "source": [
    "<h2>Количество слоев</h2>"
   ]
  },
  {
   "cell_type": "code",
   "execution_count": 25,
   "id": "449b699c-98e7-442b-a2db-c7c81aca2237",
   "metadata": {},
   "outputs": [
    {
     "data": {
      "image/png": "[encoded data removed]",
      "text/plain": [
       "<Figure size 432x288 with 1 Axes>"
      ]
     },
     "metadata": {
      "needs_background": "light"
     },
     "output_type": "display_data"
    }
   ],
   "source": [
    "max_layer = 15\n",
    "n_layer = np.arange(1, max_layer + 1, 1)\n",
    "test_err = []\n",
    "train_err = []\n",
    "\n",
    "for i in n_layer:\n",
    "    model = MLPClassifier(alpha = alpha_opt, hidden_layer_sizes = (i, n_neuron_opt), \n",
    "                              solver = 'lbfgs', activation = 'logistic', max_iter=2000, random_state = 42)\n",
    "    model.fit(x_train, y_train)\n",
    "\n",
    "    y_train_result = model.predict(x_train)\n",
    "    y_test_result = model.predict(x_test)\n",
    "    \n",
    "    train_err.append(np.mean(y_train != y_train_result))\n",
    "    test_err.append(np.mean(y_test != y_test_result))\n",
    "\n",
    "plt.plot(n_layer, train_err, 'b-o', label = 'train')\n",
    "plt.plot(n_layer, test_err, 'r-o', label = 'test')\n",
    "plt.xlim([np.min(n_layer), np.max(n_layer)])\n",
    "plt.grid(True)\n",
    "plt.title('error vs. n_layer')\n",
    "plt.xlabel('n_layer')\n",
    "plt.ylabel('error')\n",
    "plt.legend()\n",
    "plt.show()"
   ]
  },
  {
   "cell_type": "code",
   "execution_count": 26,
   "id": "b8fcae97-cf3e-4bbd-800a-78aa9cc2bfa2",
   "metadata": {},
   "outputs": [
    {
     "name": "stdout",
     "output_type": "stream",
     "text": [
      "n_layer_opt =  2\n"
     ]
    }
   ],
   "source": [
    "min_test_err = np.min(test_err)\n",
    "n_layer_opt = n_neuron[test_err == min_test_err]\n",
    "n_layer_opt = n_layer_opt[0]\n",
    "print(\"n_layer_opt = \", n_layer_opt)"
   ]
  },
  {
   "cell_type": "markdown",
   "id": "2f95e669-d60f-4227-9ab8-229ea8a991d5",
   "metadata": {},
   "source": [
    "<h2>Оптимальные параметры</h2>"
   ]
  },
  {
   "cell_type": "code",
   "execution_count": 29,
   "id": "dbfd7efc-2af9-4e9a-9675-40997870161e",
   "metadata": {},
   "outputs": [
    {
     "name": "stdout",
     "output_type": "stream",
     "text": [
      "Оптимальное alpha 0.005623413251903491\n",
      "Оптимальное количество нейронов 2\n",
      "Оптимальное количество слоев 2\n",
      "Ошибка на обучающем датасете:  0.1792154865002547\n",
      "Ошибка на тестовом датасете:  0.18002081165452655\n"
     ]
    }
   ],
   "source": [
    "model = MLPClassifier(alpha = alpha_opt, hidden_layer_sizes = (n_layer_opt, n_neuron_opt),\n",
    "                          solver = 'lbfgs', activation = 'logistic', random_state = 42)\n",
    "model.fit(x_train, y_train)\n",
    "\n",
    "y_train_result = model.predict(x_train)\n",
    "y_test_result = model.predict(x_test)\n",
    "print('Оптимальное alpha',alpha_opt)\n",
    "print('Оптимальное количество нейронов', n_neuron_opt)\n",
    "print('Оптимальное количество слоев', n_layer_opt)\n",
    "print(\"Ошибка на обучающем датасете: \", np.mean(y_train != y_train_result))\n",
    "print(\"Ошибка на тестовом датасете: \", np.mean(y_test != y_test_result))"
   ]
  }
 ],
 "metadata": {
  "kernelspec": {
   "display_name": "Python 3 (ipykernel)",
   "language": "python",
   "name": "python3"
  },
  "language_info": {
   "codemirror_mode": {
    "name": "ipython",
    "version": 3
   },
   "file_extension": ".py",
   "mimetype": "text/x-python",
   "name": "python",
   "nbconvert_exporter": "python",
   "pygments_lexer": "ipython3",
   "version": "3.9.7"
  }
 },
 "nbformat": 4,
 "nbformat_minor": 5
}
